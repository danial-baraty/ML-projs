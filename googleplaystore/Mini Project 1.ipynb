{
 "cells": [
  {
   "cell_type": "code",
   "execution_count": 1,
   "id": "483f188f-421d-47b2-99be-bbec1daf1ea4",
   "metadata": {},
   "outputs": [],
   "source": [
    "import numpy as np\n",
    "import pandas as pd\n",
    "import seaborn as sns\n",
    "import matplotlib.pyplot as plt\n",
    "\n",
    "import warnings\n",
    "warnings.filterwarnings(\"ignore\")"
   ]
  },
  {
   "cell_type": "code",
   "execution_count": 2,
   "id": "c40b6fd7-0b03-4f86-b654-cf6d32928d95",
   "metadata": {},
   "outputs": [],
   "source": [
    "df = pd.read_csv('googleplaystore.csv')"
   ]
  },
  {
   "cell_type": "code",
   "execution_count": 3,
   "id": "2ce5b557-9b98-458c-b81d-4cbf48397ff0",
   "metadata": {},
   "outputs": [
    {
     "data": {
      "text/html": [
       "<div>\n",
       "<style scoped>\n",
       "    .dataframe tbody tr th:only-of-type {\n",
       "        vertical-align: middle;\n",
       "    }\n",
       "\n",
       "    .dataframe tbody tr th {\n",
       "        vertical-align: top;\n",
       "    }\n",
       "\n",
       "    .dataframe thead th {\n",
       "        text-align: right;\n",
       "    }\n",
       "</style>\n",
       "<table border=\"1\" class=\"dataframe\">\n",
       "  <thead>\n",
       "    <tr style=\"text-align: right;\">\n",
       "      <th></th>\n",
       "      <th>App</th>\n",
       "      <th>Category</th>\n",
       "      <th>Rating</th>\n",
       "      <th>Reviews</th>\n",
       "      <th>Size</th>\n",
       "      <th>Installs</th>\n",
       "      <th>Type</th>\n",
       "      <th>Price</th>\n",
       "      <th>Content Rating</th>\n",
       "      <th>Genres</th>\n",
       "      <th>Last Updated</th>\n",
       "      <th>Current Ver</th>\n",
       "      <th>Android Ver</th>\n",
       "    </tr>\n",
       "  </thead>\n",
       "  <tbody>\n",
       "    <tr>\n",
       "      <th>3369</th>\n",
       "      <td>Emoji Keyboard - Cute Emoji,GIF, Sticker, Emot...</td>\n",
       "      <td>PERSONALIZATION</td>\n",
       "      <td>4.7</td>\n",
       "      <td>114851</td>\n",
       "      <td>20M</td>\n",
       "      <td>10,000,000+</td>\n",
       "      <td>Free</td>\n",
       "      <td>0</td>\n",
       "      <td>Everyone</td>\n",
       "      <td>Personalization</td>\n",
       "      <td>July 20, 2018</td>\n",
       "      <td>2.1.9</td>\n",
       "      <td>4.1 and up</td>\n",
       "    </tr>\n",
       "    <tr>\n",
       "      <th>2500</th>\n",
       "      <td>Blue CareOnDemand</td>\n",
       "      <td>MEDICAL</td>\n",
       "      <td>4.4</td>\n",
       "      <td>163</td>\n",
       "      <td>40M</td>\n",
       "      <td>10,000+</td>\n",
       "      <td>Free</td>\n",
       "      <td>0</td>\n",
       "      <td>Everyone</td>\n",
       "      <td>Medical</td>\n",
       "      <td>June 29, 2018</td>\n",
       "      <td>10.4.1.015_05</td>\n",
       "      <td>4.0.3 and up</td>\n",
       "    </tr>\n",
       "    <tr>\n",
       "      <th>7058</th>\n",
       "      <td>BZ-Digital</td>\n",
       "      <td>NEWS_AND_MAGAZINES</td>\n",
       "      <td>NaN</td>\n",
       "      <td>4</td>\n",
       "      <td>36M</td>\n",
       "      <td>100+</td>\n",
       "      <td>Free</td>\n",
       "      <td>0</td>\n",
       "      <td>Everyone</td>\n",
       "      <td>News &amp; Magazines</td>\n",
       "      <td>March 5, 2018</td>\n",
       "      <td>2.4.1</td>\n",
       "      <td>4.4 and up</td>\n",
       "    </tr>\n",
       "    <tr>\n",
       "      <th>6541</th>\n",
       "      <td>BN Pro White Text</td>\n",
       "      <td>LIBRARIES_AND_DEMO</td>\n",
       "      <td>4.4</td>\n",
       "      <td>50</td>\n",
       "      <td>506k</td>\n",
       "      <td>5,000+</td>\n",
       "      <td>Free</td>\n",
       "      <td>0</td>\n",
       "      <td>Everyone</td>\n",
       "      <td>Libraries &amp; Demo</td>\n",
       "      <td>February 5, 2017</td>\n",
       "      <td>2.3.2</td>\n",
       "      <td>1.6 and up</td>\n",
       "    </tr>\n",
       "    <tr>\n",
       "      <th>5800</th>\n",
       "      <td>AX Window</td>\n",
       "      <td>TOOLS</td>\n",
       "      <td>NaN</td>\n",
       "      <td>0</td>\n",
       "      <td>19M</td>\n",
       "      <td>5+</td>\n",
       "      <td>Free</td>\n",
       "      <td>0</td>\n",
       "      <td>Everyone</td>\n",
       "      <td>Tools</td>\n",
       "      <td>October 10, 2017</td>\n",
       "      <td>1.0.2</td>\n",
       "      <td>4.3 and up</td>\n",
       "    </tr>\n",
       "    <tr>\n",
       "      <th>9386</th>\n",
       "      <td>Horror Hospital</td>\n",
       "      <td>GAME</td>\n",
       "      <td>3.7</td>\n",
       "      <td>63986</td>\n",
       "      <td>26M</td>\n",
       "      <td>1,000,000+</td>\n",
       "      <td>Free</td>\n",
       "      <td>0</td>\n",
       "      <td>Teen</td>\n",
       "      <td>Action</td>\n",
       "      <td>October 10, 2017</td>\n",
       "      <td>6.0</td>\n",
       "      <td>2.3 and up</td>\n",
       "    </tr>\n",
       "    <tr>\n",
       "      <th>4227</th>\n",
       "      <td>slither.io</td>\n",
       "      <td>GAME</td>\n",
       "      <td>4.4</td>\n",
       "      <td>5231553</td>\n",
       "      <td>Varies with device</td>\n",
       "      <td>100,000,000+</td>\n",
       "      <td>Free</td>\n",
       "      <td>0</td>\n",
       "      <td>Everyone</td>\n",
       "      <td>Action</td>\n",
       "      <td>November 14, 2017</td>\n",
       "      <td>Varies with device</td>\n",
       "      <td>2.3 and up</td>\n",
       "    </tr>\n",
       "    <tr>\n",
       "      <th>1403</th>\n",
       "      <td>Food Calorie Calculator</td>\n",
       "      <td>HEALTH_AND_FITNESS</td>\n",
       "      <td>4.2</td>\n",
       "      <td>1324</td>\n",
       "      <td>4.0M</td>\n",
       "      <td>100,000+</td>\n",
       "      <td>Free</td>\n",
       "      <td>0</td>\n",
       "      <td>Everyone</td>\n",
       "      <td>Health &amp; Fitness</td>\n",
       "      <td>January 29, 2018</td>\n",
       "      <td>10.2.0</td>\n",
       "      <td>4.0 and up</td>\n",
       "    </tr>\n",
       "    <tr>\n",
       "      <th>5160</th>\n",
       "      <td>Kay AH GA</td>\n",
       "      <td>MEDICAL</td>\n",
       "      <td>NaN</td>\n",
       "      <td>0</td>\n",
       "      <td>29M</td>\n",
       "      <td>1+</td>\n",
       "      <td>Free</td>\n",
       "      <td>0</td>\n",
       "      <td>Everyone</td>\n",
       "      <td>Medical</td>\n",
       "      <td>February 15, 2018</td>\n",
       "      <td>300000.0.97</td>\n",
       "      <td>4.0.3 and up</td>\n",
       "    </tr>\n",
       "    <tr>\n",
       "      <th>6125</th>\n",
       "      <td>XXX DISTILLERY</td>\n",
       "      <td>BUSINESS</td>\n",
       "      <td>4.2</td>\n",
       "      <td>509</td>\n",
       "      <td>3.2M</td>\n",
       "      <td>100,000+</td>\n",
       "      <td>Free</td>\n",
       "      <td>0</td>\n",
       "      <td>Everyone</td>\n",
       "      <td>Business</td>\n",
       "      <td>August 2, 2017</td>\n",
       "      <td>1.1.0</td>\n",
       "      <td>4.0 and up</td>\n",
       "    </tr>\n",
       "  </tbody>\n",
       "</table>\n",
       "</div>"
      ],
      "text/plain": [
       "                                                    App            Category  \\\n",
       "3369  Emoji Keyboard - Cute Emoji,GIF, Sticker, Emot...     PERSONALIZATION   \n",
       "2500                                  Blue CareOnDemand             MEDICAL   \n",
       "7058                                         BZ-Digital  NEWS_AND_MAGAZINES   \n",
       "6541                                  BN Pro White Text  LIBRARIES_AND_DEMO   \n",
       "5800                                          AX Window               TOOLS   \n",
       "9386                                    Horror Hospital                GAME   \n",
       "4227                                         slither.io                GAME   \n",
       "1403                            Food Calorie Calculator  HEALTH_AND_FITNESS   \n",
       "5160                                          Kay AH GA             MEDICAL   \n",
       "6125                                     XXX DISTILLERY            BUSINESS   \n",
       "\n",
       "      Rating  Reviews                Size      Installs  Type Price  \\\n",
       "3369     4.7   114851                 20M   10,000,000+  Free     0   \n",
       "2500     4.4      163                 40M       10,000+  Free     0   \n",
       "7058     NaN        4                 36M          100+  Free     0   \n",
       "6541     4.4       50                506k        5,000+  Free     0   \n",
       "5800     NaN        0                 19M            5+  Free     0   \n",
       "9386     3.7    63986                 26M    1,000,000+  Free     0   \n",
       "4227     4.4  5231553  Varies with device  100,000,000+  Free     0   \n",
       "1403     4.2     1324                4.0M      100,000+  Free     0   \n",
       "5160     NaN        0                 29M            1+  Free     0   \n",
       "6125     4.2      509                3.2M      100,000+  Free     0   \n",
       "\n",
       "     Content Rating            Genres       Last Updated         Current Ver  \\\n",
       "3369       Everyone   Personalization      July 20, 2018               2.1.9   \n",
       "2500       Everyone           Medical      June 29, 2018       10.4.1.015_05   \n",
       "7058       Everyone  News & Magazines      March 5, 2018               2.4.1   \n",
       "6541       Everyone  Libraries & Demo   February 5, 2017               2.3.2   \n",
       "5800       Everyone             Tools   October 10, 2017               1.0.2   \n",
       "9386           Teen            Action   October 10, 2017                 6.0   \n",
       "4227       Everyone            Action  November 14, 2017  Varies with device   \n",
       "1403       Everyone  Health & Fitness   January 29, 2018              10.2.0   \n",
       "5160       Everyone           Medical  February 15, 2018         300000.0.97   \n",
       "6125       Everyone          Business     August 2, 2017               1.1.0   \n",
       "\n",
       "       Android Ver  \n",
       "3369    4.1 and up  \n",
       "2500  4.0.3 and up  \n",
       "7058    4.4 and up  \n",
       "6541    1.6 and up  \n",
       "5800    4.3 and up  \n",
       "9386    2.3 and up  \n",
       "4227    2.3 and up  \n",
       "1403    4.0 and up  \n",
       "5160  4.0.3 and up  \n",
       "6125    4.0 and up  "
      ]
     },
     "execution_count": 3,
     "metadata": {},
     "output_type": "execute_result"
    }
   ],
   "source": [
    "df.sample(10)"
   ]
  },
  {
   "cell_type": "markdown",
   "id": "c9c21b46-cc8c-4efb-9556-72f791e3186e",
   "metadata": {},
   "source": [
    "# Preprocessing"
   ]
  },
  {
   "cell_type": "code",
   "execution_count": 4,
   "id": "c4bd5bcd-e078-4efa-8ec0-555e43976761",
   "metadata": {},
   "outputs": [
    {
     "data": {
      "text/plain": [
       "Index(['App', 'Category', 'Rating', 'Reviews', 'Size', 'Installs', 'Type',\n",
       "       'Price', 'Content Rating', 'Genres', 'Last Updated', 'Current Ver',\n",
       "       'Android Ver'],\n",
       "      dtype='object')"
      ]
     },
     "execution_count": 4,
     "metadata": {},
     "output_type": "execute_result"
    }
   ],
   "source": [
    "df.columns"
   ]
  },
  {
   "cell_type": "code",
   "execution_count": 5,
   "id": "2432d0b4-7a17-421b-abcd-75a1d0841e44",
   "metadata": {},
   "outputs": [
    {
     "data": {
      "text/plain": [
       "Index(['app', 'category', 'rating', 'reviews', 'size', 'installs', 'type',\n",
       "       'price', 'content_rating', 'genres', 'last_updated', 'current_ver',\n",
       "       'android_ver'],\n",
       "      dtype='object')"
      ]
     },
     "execution_count": 5,
     "metadata": {},
     "output_type": "execute_result"
    }
   ],
   "source": [
    "df.columns = df.columns.str.strip().str.lower().str.replace(\" \", \"_\")\n",
    "df.columns"
   ]
  },
  {
   "cell_type": "code",
   "execution_count": 6,
   "id": "fd6aea23-4200-48c6-9dfe-e6ee564df96e",
   "metadata": {},
   "outputs": [
    {
     "data": {
      "text/plain": [
       "(10841, 13)"
      ]
     },
     "execution_count": 6,
     "metadata": {},
     "output_type": "execute_result"
    }
   ],
   "source": [
    "df.shape"
   ]
  },
  {
   "cell_type": "code",
   "execution_count": 7,
   "id": "c2914c2c-7a40-4744-b341-aaab49fccdfc",
   "metadata": {},
   "outputs": [
    {
     "data": {
      "text/plain": [
       "app                  0\n",
       "category             0\n",
       "rating            1474\n",
       "reviews              0\n",
       "size                 0\n",
       "installs             0\n",
       "type                 1\n",
       "price                0\n",
       "content_rating       1\n",
       "genres               0\n",
       "last_updated         0\n",
       "current_ver          8\n",
       "android_ver          3\n",
       "dtype: int64"
      ]
     },
     "execution_count": 7,
     "metadata": {},
     "output_type": "execute_result"
    }
   ],
   "source": [
    "df.isnull().sum()"
   ]
  },
  {
   "cell_type": "markdown",
   "id": "3620d1ef-7260-43c4-9fd0-1ad12b8ba86d",
   "metadata": {
    "jp-MarkdownHeadingCollapsed": true
   },
   "source": [
    "## category column"
   ]
  },
  {
   "cell_type": "code",
   "execution_count": 8,
   "id": "7842542e-e439-4996-ad6d-39a0768189f2",
   "metadata": {},
   "outputs": [
    {
     "data": {
      "text/plain": [
       "count      10841\n",
       "unique        34\n",
       "top       FAMILY\n",
       "freq        1972\n",
       "Name: category, dtype: object"
      ]
     },
     "execution_count": 8,
     "metadata": {},
     "output_type": "execute_result"
    }
   ],
   "source": [
    "df['category'].describe()"
   ]
  },
  {
   "cell_type": "code",
   "execution_count": 9,
   "id": "e296670a-f204-4bb8-be0d-150a33f5bbb9",
   "metadata": {},
   "outputs": [
    {
     "data": {
      "text/plain": [
       "category\n",
       "FAMILY                 1972\n",
       "GAME                   1144\n",
       "TOOLS                   843\n",
       "MEDICAL                 463\n",
       "BUSINESS                460\n",
       "PRODUCTIVITY            424\n",
       "PERSONALIZATION         392\n",
       "COMMUNICATION           387\n",
       "SPORTS                  384\n",
       "LIFESTYLE               382\n",
       "FINANCE                 366\n",
       "HEALTH_AND_FITNESS      341\n",
       "PHOTOGRAPHY             335\n",
       "SOCIAL                  295\n",
       "NEWS_AND_MAGAZINES      283\n",
       "SHOPPING                260\n",
       "TRAVEL_AND_LOCAL        258\n",
       "DATING                  234\n",
       "BOOKS_AND_REFERENCE     231\n",
       "VIDEO_PLAYERS           175\n",
       "EDUCATION               156\n",
       "ENTERTAINMENT           149\n",
       "MAPS_AND_NAVIGATION     137\n",
       "FOOD_AND_DRINK          127\n",
       "HOUSE_AND_HOME           88\n",
       "LIBRARIES_AND_DEMO       85\n",
       "AUTO_AND_VEHICLES        85\n",
       "WEATHER                  82\n",
       "ART_AND_DESIGN           65\n",
       "EVENTS                   64\n",
       "PARENTING                60\n",
       "COMICS                   60\n",
       "BEAUTY                   53\n",
       "1.9                       1\n",
       "Name: count, dtype: int64"
      ]
     },
     "execution_count": 9,
     "metadata": {},
     "output_type": "execute_result"
    }
   ],
   "source": [
    "df['category'].value_counts()"
   ]
  },
  {
   "cell_type": "code",
   "execution_count": 10,
   "id": "ada4ddd2-9082-4cd9-a812-13f0ac4324da",
   "metadata": {},
   "outputs": [],
   "source": [
    "df = df[df['category'] != '1.9']"
   ]
  },
  {
   "cell_type": "code",
   "execution_count": 11,
   "id": "2e4b6b4a-67ff-4537-9e91-b49a4e84d25c",
   "metadata": {},
   "outputs": [
    {
     "data": {
      "text/plain": [
       "category\n",
       "FAMILY                 1972\n",
       "GAME                   1144\n",
       "TOOLS                   843\n",
       "MEDICAL                 463\n",
       "BUSINESS                460\n",
       "PRODUCTIVITY            424\n",
       "PERSONALIZATION         392\n",
       "COMMUNICATION           387\n",
       "SPORTS                  384\n",
       "LIFESTYLE               382\n",
       "FINANCE                 366\n",
       "HEALTH_AND_FITNESS      341\n",
       "PHOTOGRAPHY             335\n",
       "SOCIAL                  295\n",
       "NEWS_AND_MAGAZINES      283\n",
       "SHOPPING                260\n",
       "TRAVEL_AND_LOCAL        258\n",
       "DATING                  234\n",
       "BOOKS_AND_REFERENCE     231\n",
       "VIDEO_PLAYERS           175\n",
       "EDUCATION               156\n",
       "ENTERTAINMENT           149\n",
       "MAPS_AND_NAVIGATION     137\n",
       "FOOD_AND_DRINK          127\n",
       "HOUSE_AND_HOME           88\n",
       "AUTO_AND_VEHICLES        85\n",
       "LIBRARIES_AND_DEMO       85\n",
       "WEATHER                  82\n",
       "ART_AND_DESIGN           65\n",
       "EVENTS                   64\n",
       "PARENTING                60\n",
       "COMICS                   60\n",
       "BEAUTY                   53\n",
       "Name: count, dtype: int64"
      ]
     },
     "execution_count": 11,
     "metadata": {},
     "output_type": "execute_result"
    }
   ],
   "source": [
    "df['category'].value_counts()"
   ]
  },
  {
   "cell_type": "markdown",
   "id": "79acd062-eaff-4950-9fcd-3d4c1c1458da",
   "metadata": {
    "jp-MarkdownHeadingCollapsed": true
   },
   "source": [
    "## rating column"
   ]
  },
  {
   "cell_type": "code",
   "execution_count": 12,
   "id": "7bd252ae-a1e5-453b-a5c3-58b4daa0ec62",
   "metadata": {},
   "outputs": [],
   "source": [
    "rating_median = df['rating'].median()\n",
    "df['rating'] = df['rating'].fillna(rating_median)"
   ]
  },
  {
   "cell_type": "code",
   "execution_count": 13,
   "id": "5d10a6b9-f0bf-4c8b-af84-50298884f4a0",
   "metadata": {},
   "outputs": [
    {
     "data": {
      "text/plain": [
       "app               0\n",
       "category          0\n",
       "rating            0\n",
       "reviews           0\n",
       "size              0\n",
       "installs          0\n",
       "type              1\n",
       "price             0\n",
       "content_rating    0\n",
       "genres            0\n",
       "last_updated      0\n",
       "current_ver       8\n",
       "android_ver       2\n",
       "dtype: int64"
      ]
     },
     "execution_count": 13,
     "metadata": {},
     "output_type": "execute_result"
    }
   ],
   "source": [
    "df.isnull().sum()"
   ]
  },
  {
   "cell_type": "code",
   "execution_count": 14,
   "id": "a31cc192-c0fd-45fd-8967-4ce77d273cfc",
   "metadata": {},
   "outputs": [
    {
     "data": {
      "text/plain": [
       "count    10840.000000\n",
       "mean         4.206476\n",
       "std          0.480342\n",
       "min          1.000000\n",
       "25%          4.100000\n",
       "50%          4.300000\n",
       "75%          4.500000\n",
       "max          5.000000\n",
       "Name: rating, dtype: float64"
      ]
     },
     "execution_count": 14,
     "metadata": {},
     "output_type": "execute_result"
    }
   ],
   "source": [
    "df['rating'].describe()"
   ]
  },
  {
   "cell_type": "markdown",
   "id": "a20d052e-5f49-439d-965a-0c5f4888f103",
   "metadata": {
    "jp-MarkdownHeadingCollapsed": true
   },
   "source": [
    "## reviews column"
   ]
  },
  {
   "cell_type": "code",
   "execution_count": 15,
   "id": "45ac4718-e078-470f-9a88-8ebe23f98c50",
   "metadata": {},
   "outputs": [
    {
     "data": {
      "text/plain": [
       "0           159\n",
       "1           967\n",
       "2         87510\n",
       "3        215644\n",
       "4           967\n",
       "          ...  \n",
       "10836        38\n",
       "10837         4\n",
       "10838         3\n",
       "10839       114\n",
       "10840    398307\n",
       "Name: reviews, Length: 10840, dtype: object"
      ]
     },
     "execution_count": 15,
     "metadata": {},
     "output_type": "execute_result"
    }
   ],
   "source": [
    "df[\"reviews\"]"
   ]
  },
  {
   "cell_type": "code",
   "execution_count": 16,
   "id": "bf9f0889-a86e-440c-a04c-95e1608d3277",
   "metadata": {},
   "outputs": [],
   "source": [
    "df[\"reviews\"] = df[\"reviews\"].astype('int64')"
   ]
  },
  {
   "cell_type": "code",
   "execution_count": 17,
   "id": "f455b1f6-c2d5-405a-bc74-b61ee0f82fea",
   "metadata": {},
   "outputs": [
    {
     "data": {
      "text/plain": [
       "dtype('int64')"
      ]
     },
     "execution_count": 17,
     "metadata": {},
     "output_type": "execute_result"
    }
   ],
   "source": [
    "df[\"reviews\"].dtype"
   ]
  },
  {
   "cell_type": "markdown",
   "id": "89ddfc5a-5def-419a-9f2f-142da5afcf31",
   "metadata": {
    "jp-MarkdownHeadingCollapsed": true
   },
   "source": [
    "## size column"
   ]
  },
  {
   "cell_type": "code",
   "execution_count": 18,
   "id": "b334300c-bc1b-419b-b5a3-236ea90e2c2e",
   "metadata": {},
   "outputs": [
    {
     "data": {
      "text/plain": [
       "array(['19M', '14M', '8.7M', '25M', '2.8M', '5.6M', '29M', '33M', '3.1M',\n",
       "       '28M', '12M', '20M', '21M', '37M', '2.7M', '5.5M', '17M', '39M',\n",
       "       '31M', '4.2M', '7.0M', '23M', '6.0M', '6.1M', '4.6M', '9.2M',\n",
       "       '5.2M', '11M', '24M', 'Varies with device', '9.4M', '15M', '10M',\n",
       "       '1.2M', '26M', '8.0M', '7.9M', '56M', '57M', '35M', '54M', '201k',\n",
       "       '3.6M', '5.7M', '8.6M', '2.4M', '27M', '2.5M', '16M', '3.4M',\n",
       "       '8.9M', '3.9M', '2.9M', '38M', '32M', '5.4M', '18M', '1.1M',\n",
       "       '2.2M', '4.5M', '9.8M', '52M', '9.0M', '6.7M', '30M', '2.6M',\n",
       "       '7.1M', '3.7M', '22M', '7.4M', '6.4M', '3.2M', '8.2M', '9.9M',\n",
       "       '4.9M', '9.5M', '5.0M', '5.9M', '13M', '73M', '6.8M', '3.5M',\n",
       "       '4.0M', '2.3M', '7.2M', '2.1M', '42M', '7.3M', '9.1M', '55M',\n",
       "       '23k', '6.5M', '1.5M', '7.5M', '51M', '41M', '48M', '8.5M', '46M',\n",
       "       '8.3M', '4.3M', '4.7M', '3.3M', '40M', '7.8M', '8.8M', '6.6M',\n",
       "       '5.1M', '61M', '66M', '79k', '8.4M', '118k', '44M', '695k', '1.6M',\n",
       "       '6.2M', '18k', '53M', '1.4M', '3.0M', '5.8M', '3.8M', '9.6M',\n",
       "       '45M', '63M', '49M', '77M', '4.4M', '4.8M', '70M', '6.9M', '9.3M',\n",
       "       '10.0M', '8.1M', '36M', '84M', '97M', '2.0M', '1.9M', '1.8M',\n",
       "       '5.3M', '47M', '556k', '526k', '76M', '7.6M', '59M', '9.7M', '78M',\n",
       "       '72M', '43M', '7.7M', '6.3M', '334k', '34M', '93M', '65M', '79M',\n",
       "       '100M', '58M', '50M', '68M', '64M', '67M', '60M', '94M', '232k',\n",
       "       '99M', '624k', '95M', '8.5k', '41k', '292k', '11k', '80M', '1.7M',\n",
       "       '74M', '62M', '69M', '75M', '98M', '85M', '82M', '96M', '87M',\n",
       "       '71M', '86M', '91M', '81M', '92M', '83M', '88M', '704k', '862k',\n",
       "       '899k', '378k', '266k', '375k', '1.3M', '975k', '980k', '4.1M',\n",
       "       '89M', '696k', '544k', '525k', '920k', '779k', '853k', '720k',\n",
       "       '713k', '772k', '318k', '58k', '241k', '196k', '857k', '51k',\n",
       "       '953k', '865k', '251k', '930k', '540k', '313k', '746k', '203k',\n",
       "       '26k', '314k', '239k', '371k', '220k', '730k', '756k', '91k',\n",
       "       '293k', '17k', '74k', '14k', '317k', '78k', '924k', '902k', '818k',\n",
       "       '81k', '939k', '169k', '45k', '475k', '965k', '90M', '545k', '61k',\n",
       "       '283k', '655k', '714k', '93k', '872k', '121k', '322k', '1.0M',\n",
       "       '976k', '172k', '238k', '549k', '206k', '954k', '444k', '717k',\n",
       "       '210k', '609k', '308k', '705k', '306k', '904k', '473k', '175k',\n",
       "       '350k', '383k', '454k', '421k', '70k', '812k', '442k', '842k',\n",
       "       '417k', '412k', '459k', '478k', '335k', '782k', '721k', '430k',\n",
       "       '429k', '192k', '200k', '460k', '728k', '496k', '816k', '414k',\n",
       "       '506k', '887k', '613k', '243k', '569k', '778k', '683k', '592k',\n",
       "       '319k', '186k', '840k', '647k', '191k', '373k', '437k', '598k',\n",
       "       '716k', '585k', '982k', '222k', '219k', '55k', '948k', '323k',\n",
       "       '691k', '511k', '951k', '963k', '25k', '554k', '351k', '27k',\n",
       "       '82k', '208k', '913k', '514k', '551k', '29k', '103k', '898k',\n",
       "       '743k', '116k', '153k', '209k', '353k', '499k', '173k', '597k',\n",
       "       '809k', '122k', '411k', '400k', '801k', '787k', '237k', '50k',\n",
       "       '643k', '986k', '97k', '516k', '837k', '780k', '961k', '269k',\n",
       "       '20k', '498k', '600k', '749k', '642k', '881k', '72k', '656k',\n",
       "       '601k', '221k', '228k', '108k', '940k', '176k', '33k', '663k',\n",
       "       '34k', '942k', '259k', '164k', '458k', '245k', '629k', '28k',\n",
       "       '288k', '775k', '785k', '636k', '916k', '994k', '309k', '485k',\n",
       "       '914k', '903k', '608k', '500k', '54k', '562k', '847k', '957k',\n",
       "       '688k', '811k', '270k', '48k', '329k', '523k', '921k', '874k',\n",
       "       '981k', '784k', '280k', '24k', '518k', '754k', '892k', '154k',\n",
       "       '860k', '364k', '387k', '626k', '161k', '879k', '39k', '970k',\n",
       "       '170k', '141k', '160k', '144k', '143k', '190k', '376k', '193k',\n",
       "       '246k', '73k', '658k', '992k', '253k', '420k', '404k', '470k',\n",
       "       '226k', '240k', '89k', '234k', '257k', '861k', '467k', '157k',\n",
       "       '44k', '676k', '67k', '552k', '885k', '1020k', '582k', '619k'],\n",
       "      dtype=object)"
      ]
     },
     "execution_count": 18,
     "metadata": {},
     "output_type": "execute_result"
    }
   ],
   "source": [
    "df['size'].unique()"
   ]
  },
  {
   "cell_type": "code",
   "execution_count": 19,
   "id": "cf3e0ae3-92df-4f7a-aea1-2824cfe0568f",
   "metadata": {},
   "outputs": [
    {
     "data": {
      "text/plain": [
       "size\n",
       "Varies with device    1695\n",
       "11M                    198\n",
       "12M                    196\n",
       "14M                    194\n",
       "13M                    191\n",
       "                      ... \n",
       "430k                     1\n",
       "429k                     1\n",
       "200k                     1\n",
       "460k                     1\n",
       "619k                     1\n",
       "Name: count, Length: 461, dtype: int64"
      ]
     },
     "execution_count": 19,
     "metadata": {},
     "output_type": "execute_result"
    }
   ],
   "source": [
    "df['size'].value_counts()"
   ]
  },
  {
   "cell_type": "markdown",
   "id": "9fe50857-1bfe-4b15-b2f5-a69413f027d2",
   "metadata": {},
   "source": [
    "#### remove K and M, convert to megabytes, replace 'Varies with device' with median"
   ]
  },
  {
   "cell_type": "code",
   "execution_count": 20,
   "id": "83dc0cbc-c15d-4057-8492-af7f64fb5dcb",
   "metadata": {},
   "outputs": [],
   "source": [
    "# Operates on string values in a pandas Series (like the size column) and is designed for string manipulation using regular expressions or simple string replacements.\n",
    "df[\"size\"] = df[\"size\"].str.replace(r'(\\d+\\.?\\d*)[kK]', lambda x: str(float(x.group(1)) / 1000), regex=True)\n",
    "\n",
    "# df[\"column\"].replace is typically used to replace entire values in a Series (e.g., replacing \"10K\" with 0.01). \n",
    "# However, when regex=True is used with df[\"column\"].replace, it behaves more like a substring replacement.\n",
    "df[\"size\"] = df[\"size\"].replace(\"M\",\"\", regex=True)"
   ]
  },
  {
   "cell_type": "code",
   "execution_count": 21,
   "id": "2c44b2c3-3669-4b54-8502-b28492e0cba7",
   "metadata": {},
   "outputs": [],
   "source": [
    "# Using df[\"size\"] = df[\"size\"].astype('float64') -> could not convert string to float: 'Varies with device'\n",
    "\n",
    "# convert 'Varies with device' to nan\n",
    "df[\"size\"] = pd.to_numeric(df[\"size\"], errors='coerce').astype('float64')"
   ]
  },
  {
   "cell_type": "code",
   "execution_count": 22,
   "id": "340cfad1-b3d0-4ab1-87fa-cbdf93fbf7ad",
   "metadata": {},
   "outputs": [],
   "source": [
    "size_median = df['size'].median()\n",
    "df['size'] = df['size'].fillna(size_median)"
   ]
  },
  {
   "cell_type": "code",
   "execution_count": 23,
   "id": "86e840b7-93ae-4ba3-9470-84855e24161c",
   "metadata": {},
   "outputs": [
    {
     "data": {
      "text/plain": [
       "array([1.90e+01, 1.40e+01, 8.70e+00, 2.50e+01, 2.80e+00, 5.60e+00,\n",
       "       2.90e+01, 3.30e+01, 3.10e+00, 2.80e+01, 1.20e+01, 2.00e+01,\n",
       "       2.10e+01, 3.70e+01, 2.70e+00, 5.50e+00, 1.70e+01, 3.90e+01,\n",
       "       3.10e+01, 4.20e+00, 7.00e+00, 2.30e+01, 6.00e+00, 6.10e+00,\n",
       "       4.60e+00, 9.20e+00, 5.20e+00, 1.10e+01, 2.40e+01, 1.30e+01,\n",
       "       9.40e+00, 1.50e+01, 1.00e+01, 1.20e+00, 2.60e+01, 8.00e+00,\n",
       "       7.90e+00, 5.60e+01, 5.70e+01, 3.50e+01, 5.40e+01, 2.01e-01,\n",
       "       3.60e+00, 5.70e+00, 8.60e+00, 2.40e+00, 2.70e+01, 2.50e+00,\n",
       "       1.60e+01, 3.40e+00, 8.90e+00, 3.90e+00, 2.90e+00, 3.80e+01,\n",
       "       3.20e+01, 5.40e+00, 1.80e+01, 1.10e+00, 2.20e+00, 4.50e+00,\n",
       "       9.80e+00, 5.20e+01, 9.00e+00, 6.70e+00, 3.00e+01, 2.60e+00,\n",
       "       7.10e+00, 3.70e+00, 2.20e+01, 7.40e+00, 6.40e+00, 3.20e+00,\n",
       "       8.20e+00, 9.90e+00, 4.90e+00, 9.50e+00, 5.00e+00, 5.90e+00,\n",
       "       7.30e+01, 6.80e+00, 3.50e+00, 4.00e+00, 2.30e+00, 7.20e+00,\n",
       "       2.10e+00, 4.20e+01, 7.30e+00, 9.10e+00, 5.50e+01, 2.30e-02,\n",
       "       6.50e+00, 1.50e+00, 7.50e+00, 5.10e+01, 4.10e+01, 4.80e+01,\n",
       "       8.50e+00, 4.60e+01, 8.30e+00, 4.30e+00, 4.70e+00, 3.30e+00,\n",
       "       4.00e+01, 7.80e+00, 8.80e+00, 6.60e+00, 5.10e+00, 6.10e+01,\n",
       "       6.60e+01, 7.90e-02, 8.40e+00, 1.18e-01, 4.40e+01, 6.95e-01,\n",
       "       1.60e+00, 6.20e+00, 1.80e-02, 5.30e+01, 1.40e+00, 3.00e+00,\n",
       "       5.80e+00, 3.80e+00, 9.60e+00, 4.50e+01, 6.30e+01, 4.90e+01,\n",
       "       7.70e+01, 4.40e+00, 4.80e+00, 7.00e+01, 6.90e+00, 9.30e+00,\n",
       "       8.10e+00, 3.60e+01, 8.40e+01, 9.70e+01, 2.00e+00, 1.90e+00,\n",
       "       1.80e+00, 5.30e+00, 4.70e+01, 5.56e-01, 5.26e-01, 7.60e+01,\n",
       "       7.60e+00, 5.90e+01, 9.70e+00, 7.80e+01, 7.20e+01, 4.30e+01,\n",
       "       7.70e+00, 6.30e+00, 3.34e-01, 3.40e+01, 9.30e+01, 6.50e+01,\n",
       "       7.90e+01, 1.00e+02, 5.80e+01, 5.00e+01, 6.80e+01, 6.40e+01,\n",
       "       6.70e+01, 6.00e+01, 9.40e+01, 2.32e-01, 9.90e+01, 6.24e-01,\n",
       "       9.50e+01, 8.50e-03, 4.10e-02, 2.92e-01, 1.10e-02, 8.00e+01,\n",
       "       1.70e+00, 7.40e+01, 6.20e+01, 6.90e+01, 7.50e+01, 9.80e+01,\n",
       "       8.50e+01, 8.20e+01, 9.60e+01, 8.70e+01, 7.10e+01, 8.60e+01,\n",
       "       9.10e+01, 8.10e+01, 9.20e+01, 8.30e+01, 8.80e+01, 7.04e-01,\n",
       "       8.62e-01, 8.99e-01, 3.78e-01, 2.66e-01, 3.75e-01, 1.30e+00,\n",
       "       9.75e-01, 9.80e-01, 4.10e+00, 8.90e+01, 6.96e-01, 5.44e-01,\n",
       "       5.25e-01, 9.20e-01, 7.79e-01, 8.53e-01, 7.20e-01, 7.13e-01,\n",
       "       7.72e-01, 3.18e-01, 5.80e-02, 2.41e-01, 1.96e-01, 8.57e-01,\n",
       "       5.10e-02, 9.53e-01, 8.65e-01, 2.51e-01, 9.30e-01, 5.40e-01,\n",
       "       3.13e-01, 7.46e-01, 2.03e-01, 2.60e-02, 3.14e-01, 2.39e-01,\n",
       "       3.71e-01, 2.20e-01, 7.30e-01, 7.56e-01, 9.10e-02, 2.93e-01,\n",
       "       1.70e-02, 7.40e-02, 1.40e-02, 3.17e-01, 7.80e-02, 9.24e-01,\n",
       "       9.02e-01, 8.18e-01, 8.10e-02, 9.39e-01, 1.69e-01, 4.50e-02,\n",
       "       4.75e-01, 9.65e-01, 9.00e+01, 5.45e-01, 6.10e-02, 2.83e-01,\n",
       "       6.55e-01, 7.14e-01, 9.30e-02, 8.72e-01, 1.21e-01, 3.22e-01,\n",
       "       1.00e+00, 9.76e-01, 1.72e-01, 2.38e-01, 5.49e-01, 2.06e-01,\n",
       "       9.54e-01, 4.44e-01, 7.17e-01, 2.10e-01, 6.09e-01, 3.08e-01,\n",
       "       7.05e-01, 3.06e-01, 9.04e-01, 4.73e-01, 1.75e-01, 3.50e-01,\n",
       "       3.83e-01, 4.54e-01, 4.21e-01, 7.00e-02, 8.12e-01, 4.42e-01,\n",
       "       8.42e-01, 4.17e-01, 4.12e-01, 4.59e-01, 4.78e-01, 3.35e-01,\n",
       "       7.82e-01, 7.21e-01, 4.30e-01, 4.29e-01, 1.92e-01, 2.00e-01,\n",
       "       4.60e-01, 7.28e-01, 4.96e-01, 8.16e-01, 4.14e-01, 5.06e-01,\n",
       "       8.87e-01, 6.13e-01, 2.43e-01, 5.69e-01, 7.78e-01, 6.83e-01,\n",
       "       5.92e-01, 3.19e-01, 1.86e-01, 8.40e-01, 6.47e-01, 1.91e-01,\n",
       "       3.73e-01, 4.37e-01, 5.98e-01, 7.16e-01, 5.85e-01, 9.82e-01,\n",
       "       2.22e-01, 2.19e-01, 5.50e-02, 9.48e-01, 3.23e-01, 6.91e-01,\n",
       "       5.11e-01, 9.51e-01, 9.63e-01, 2.50e-02, 5.54e-01, 3.51e-01,\n",
       "       2.70e-02, 8.20e-02, 2.08e-01, 9.13e-01, 5.14e-01, 5.51e-01,\n",
       "       2.90e-02, 1.03e-01, 8.98e-01, 7.43e-01, 1.16e-01, 1.53e-01,\n",
       "       2.09e-01, 3.53e-01, 4.99e-01, 1.73e-01, 5.97e-01, 8.09e-01,\n",
       "       1.22e-01, 4.11e-01, 4.00e-01, 8.01e-01, 7.87e-01, 2.37e-01,\n",
       "       5.00e-02, 6.43e-01, 9.86e-01, 9.70e-02, 5.16e-01, 8.37e-01,\n",
       "       7.80e-01, 9.61e-01, 2.69e-01, 2.00e-02, 4.98e-01, 6.00e-01,\n",
       "       7.49e-01, 6.42e-01, 8.81e-01, 7.20e-02, 6.56e-01, 6.01e-01,\n",
       "       2.21e-01, 2.28e-01, 1.08e-01, 9.40e-01, 1.76e-01, 3.30e-02,\n",
       "       6.63e-01, 3.40e-02, 9.42e-01, 2.59e-01, 1.64e-01, 4.58e-01,\n",
       "       2.45e-01, 6.29e-01, 2.80e-02, 2.88e-01, 7.75e-01, 7.85e-01,\n",
       "       6.36e-01, 9.16e-01, 9.94e-01, 3.09e-01, 4.85e-01, 9.14e-01,\n",
       "       9.03e-01, 6.08e-01, 5.00e-01, 5.40e-02, 5.62e-01, 8.47e-01,\n",
       "       9.57e-01, 6.88e-01, 8.11e-01, 2.70e-01, 4.80e-02, 3.29e-01,\n",
       "       5.23e-01, 9.21e-01, 8.74e-01, 9.81e-01, 7.84e-01, 2.80e-01,\n",
       "       2.40e-02, 5.18e-01, 7.54e-01, 8.92e-01, 1.54e-01, 8.60e-01,\n",
       "       3.64e-01, 3.87e-01, 6.26e-01, 1.61e-01, 8.79e-01, 3.90e-02,\n",
       "       9.70e-01, 1.70e-01, 1.41e-01, 1.60e-01, 1.44e-01, 1.43e-01,\n",
       "       1.90e-01, 3.76e-01, 1.93e-01, 2.46e-01, 7.30e-02, 6.58e-01,\n",
       "       9.92e-01, 2.53e-01, 4.20e-01, 4.04e-01, 4.70e-01, 2.26e-01,\n",
       "       2.40e-01, 8.90e-02, 2.34e-01, 2.57e-01, 8.61e-01, 4.67e-01,\n",
       "       1.57e-01, 4.40e-02, 6.76e-01, 6.70e-02, 5.52e-01, 8.85e-01,\n",
       "       1.02e+00, 5.82e-01, 6.19e-01])"
      ]
     },
     "execution_count": 23,
     "metadata": {},
     "output_type": "execute_result"
    }
   ],
   "source": [
    "df['size'].unique()"
   ]
  },
  {
   "cell_type": "markdown",
   "id": "b23e7535-e497-4489-a739-d113a780f464",
   "metadata": {},
   "source": [
    "# EDA"
   ]
  },
  {
   "cell_type": "code",
   "execution_count": 24,
   "id": "049e992b-f7cf-4692-9659-16d481ffe0fa",
   "metadata": {},
   "outputs": [],
   "source": [
    "plt.rcParams['figure.figsize'] = (8, 6)"
   ]
  },
  {
   "cell_type": "code",
   "execution_count": 25,
   "id": "c31e7f16-4683-4ba1-9a38-8547f2e94d37",
   "metadata": {},
   "outputs": [
    {
     "data": {
      "text/plain": [
       "<Axes: xlabel='rating'>"
      ]
     },
     "execution_count": 25,
     "metadata": {},
     "output_type": "execute_result"
    },
    {
     "data": {
      "image/png": "[encoded data removed]",
      "text/plain": [
       "<Figure size 800x600 with 1 Axes>"
      ]
     },
     "metadata": {},
     "output_type": "display_data"
    }
   ],
   "source": [
    "sns.boxplot(x = \"rating\", data = df)"
   ]
  },
  {
   "cell_type": "code",
   "execution_count": 26,
   "id": "52c8eba5-6109-4457-947f-1b081e968fe5",
   "metadata": {},
   "outputs": [
    {
     "data": {
      "text/plain": [
       "Text(0.5, 1.0, 'Distribution of Ratings')"
      ]
     },
     "execution_count": 26,
     "metadata": {},
     "output_type": "execute_result"
    },
    {
     "data": {
      "image/png": "[encoded data removed]",
      "text/plain": [
       "<Figure size 800x600 with 1 Axes>"
      ]
     },
     "metadata": {},
     "output_type": "display_data"
    }
   ],
   "source": [
    "# sns.histplot(data = df['Rating'], bins = 20, kde = True, color=\"#000080\")\n",
    "\n",
    "ax = sns.histplot(data=df['rating'], bins=20, kde=True, color='#4682B4')\n",
    "ax.lines[0].set_color('#FF6F61')\n",
    "plt.title(\"Distribution of Ratings\")"
   ]
  },
  {
   "cell_type": "code",
   "execution_count": 27,
   "id": "2d45e6c8-eec8-456b-8314-a4082b34064c",
   "metadata": {},
   "outputs": [
    {
     "data": {
      "text/plain": [
       "Text(0.5, 1.0, 'Categories with their counts')"
      ]
     },
     "execution_count": 27,
     "metadata": {},
     "output_type": "execute_result"
    },
    {
     "data": {
      "image/png": "[encoded data removed]",
      "text/plain": [
       "<Figure size 800x600 with 1 Axes>"
      ]
     },
     "metadata": {},
     "output_type": "display_data"
    }
   ],
   "source": [
    "order = df['category'].value_counts().index\n",
    "\n",
    "sns.countplot(y = \"category\", data = df, order=order)\n",
    "plt.title(\"Categories with their counts\")"
   ]
  }
 ],
 "metadata": {
  "kernelspec": {
   "display_name": "Python [conda env:base] *",
   "language": "python",
   "name": "conda-base-py"
  },
  "language_info": {
   "codemirror_mode": {
    "name": "ipython",
    "version": 3
   },
   "file_extension": ".py",
   "mimetype": "text/x-python",
   "name": "python",
   "nbconvert_exporter": "python",
   "pygments_lexer": "ipython3",
   "version": "3.12.7"
  }
 },
 "nbformat": 4,
 "nbformat_minor": 5
}
