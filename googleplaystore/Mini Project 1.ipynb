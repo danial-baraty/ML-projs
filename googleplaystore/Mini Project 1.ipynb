{
 "cells": [
  {
   "cell_type": "code",
   "execution_count": 1,
   "id": "483f188f-421d-47b2-99be-bbec1daf1ea4",
   "metadata": {},
   "outputs": [],
   "source": [
    "import numpy as np\n",
    "import pandas as pd\n",
    "import seaborn as sns\n",
    "import matplotlib.pyplot as plt\n",
    "\n",
    "import warnings\n",
    "warnings.filterwarnings(\"ignore\")"
   ]
  },
  {
   "cell_type": "code",
   "execution_count": 2,
   "id": "c40b6fd7-0b03-4f86-b654-cf6d32928d95",
   "metadata": {},
   "outputs": [],
   "source": [
    "df = pd.read_csv('googleplaystore.csv')"
   ]
  },
  {
   "cell_type": "code",
   "execution_count": 3,
   "id": "2ce5b557-9b98-458c-b81d-4cbf48397ff0",
   "metadata": {},
   "outputs": [
    {
     "data": {
      "text/html": [
       "<div>\n",
       "<style scoped>\n",
       "    .dataframe tbody tr th:only-of-type {\n",
       "        vertical-align: middle;\n",
       "    }\n",
       "\n",
       "    .dataframe tbody tr th {\n",
       "        vertical-align: top;\n",
       "    }\n",
       "\n",
       "    .dataframe thead th {\n",
       "        text-align: right;\n",
       "    }\n",
       "</style>\n",
       "<table border=\"1\" class=\"dataframe\">\n",
       "  <thead>\n",
       "    <tr style=\"text-align: right;\">\n",
       "      <th></th>\n",
       "      <th>App</th>\n",
       "      <th>Category</th>\n",
       "      <th>Rating</th>\n",
       "      <th>Reviews</th>\n",
       "      <th>Size</th>\n",
       "      <th>Installs</th>\n",
       "      <th>Type</th>\n",
       "      <th>Price</th>\n",
       "      <th>Content Rating</th>\n",
       "      <th>Genres</th>\n",
       "      <th>Last Updated</th>\n",
       "      <th>Current Ver</th>\n",
       "      <th>Android Ver</th>\n",
       "    </tr>\n",
       "  </thead>\n",
       "  <tbody>\n",
       "    <tr>\n",
       "      <th>8953</th>\n",
       "      <td>US DV Lottery 2020 Apply</td>\n",
       "      <td>TRAVEL_AND_LOCAL</td>\n",
       "      <td>4.6</td>\n",
       "      <td>41</td>\n",
       "      <td>2.0M</td>\n",
       "      <td>10,000+</td>\n",
       "      <td>Free</td>\n",
       "      <td>0</td>\n",
       "      <td>Everyone</td>\n",
       "      <td>Travel &amp; Local</td>\n",
       "      <td>January 14, 2018</td>\n",
       "      <td>1.02</td>\n",
       "      <td>4.0 and up</td>\n",
       "    </tr>\n",
       "    <tr>\n",
       "      <th>1672</th>\n",
       "      <td>Block Puzzle Classic Legend !</td>\n",
       "      <td>GAME</td>\n",
       "      <td>4.2</td>\n",
       "      <td>17039</td>\n",
       "      <td>4.9M</td>\n",
       "      <td>5,000,000+</td>\n",
       "      <td>Free</td>\n",
       "      <td>0</td>\n",
       "      <td>Everyone</td>\n",
       "      <td>Puzzle</td>\n",
       "      <td>April 13, 2018</td>\n",
       "      <td>2.9</td>\n",
       "      <td>2.3.3 and up</td>\n",
       "    </tr>\n",
       "    <tr>\n",
       "      <th>687</th>\n",
       "      <td>Girls Live Chat - Free Text &amp; Video Chat</td>\n",
       "      <td>DATING</td>\n",
       "      <td>4.8</td>\n",
       "      <td>110</td>\n",
       "      <td>4.9M</td>\n",
       "      <td>10,000+</td>\n",
       "      <td>Free</td>\n",
       "      <td>0</td>\n",
       "      <td>Mature 17+</td>\n",
       "      <td>Dating</td>\n",
       "      <td>July 9, 2018</td>\n",
       "      <td>8.2</td>\n",
       "      <td>4.0.3 and up</td>\n",
       "    </tr>\n",
       "    <tr>\n",
       "      <th>1220</th>\n",
       "      <td>Cookbook Recipes</td>\n",
       "      <td>FOOD_AND_DRINK</td>\n",
       "      <td>4.1</td>\n",
       "      <td>46539</td>\n",
       "      <td>Varies with device</td>\n",
       "      <td>5,000,000+</td>\n",
       "      <td>Free</td>\n",
       "      <td>0</td>\n",
       "      <td>Teen</td>\n",
       "      <td>Food &amp; Drink</td>\n",
       "      <td>July 23, 2018</td>\n",
       "      <td>Varies with device</td>\n",
       "      <td>Varies with device</td>\n",
       "    </tr>\n",
       "    <tr>\n",
       "      <th>6784</th>\n",
       "      <td>Ultimate Control BT</td>\n",
       "      <td>BUSINESS</td>\n",
       "      <td>4.6</td>\n",
       "      <td>14</td>\n",
       "      <td>4.3M</td>\n",
       "      <td>500+</td>\n",
       "      <td>Free</td>\n",
       "      <td>0</td>\n",
       "      <td>Everyone</td>\n",
       "      <td>Business</td>\n",
       "      <td>June 6, 2018</td>\n",
       "      <td>3.3.2</td>\n",
       "      <td>4.4 and up</td>\n",
       "    </tr>\n",
       "    <tr>\n",
       "      <th>6029</th>\n",
       "      <td>Live Radio BD</td>\n",
       "      <td>FAMILY</td>\n",
       "      <td>4.2</td>\n",
       "      <td>69</td>\n",
       "      <td>3.5M</td>\n",
       "      <td>10,000+</td>\n",
       "      <td>Free</td>\n",
       "      <td>0</td>\n",
       "      <td>Everyone</td>\n",
       "      <td>Entertainment</td>\n",
       "      <td>May 4, 2015</td>\n",
       "      <td>1.1</td>\n",
       "      <td>4.0 and up</td>\n",
       "    </tr>\n",
       "    <tr>\n",
       "      <th>5237</th>\n",
       "      <td>Hey AJ! It's Saturday!</td>\n",
       "      <td>BOOKS_AND_REFERENCE</td>\n",
       "      <td>5.0</td>\n",
       "      <td>12</td>\n",
       "      <td>50M</td>\n",
       "      <td>100+</td>\n",
       "      <td>Paid</td>\n",
       "      <td>$3.99</td>\n",
       "      <td>Everyone</td>\n",
       "      <td>Books &amp; Reference</td>\n",
       "      <td>June 13, 2016</td>\n",
       "      <td>1.0.0</td>\n",
       "      <td>2.2 and up</td>\n",
       "    </tr>\n",
       "    <tr>\n",
       "      <th>1812</th>\n",
       "      <td>Hero Hunters</td>\n",
       "      <td>GAME</td>\n",
       "      <td>4.4</td>\n",
       "      <td>70747</td>\n",
       "      <td>99M</td>\n",
       "      <td>5,000,000+</td>\n",
       "      <td>Free</td>\n",
       "      <td>0</td>\n",
       "      <td>Teen</td>\n",
       "      <td>Action</td>\n",
       "      <td>July 31, 2018</td>\n",
       "      <td>1.7</td>\n",
       "      <td>4.4 and up</td>\n",
       "    </tr>\n",
       "    <tr>\n",
       "      <th>3454</th>\n",
       "      <td>Google Drive</td>\n",
       "      <td>PRODUCTIVITY</td>\n",
       "      <td>4.4</td>\n",
       "      <td>2731171</td>\n",
       "      <td>Varies with device</td>\n",
       "      <td>1,000,000,000+</td>\n",
       "      <td>Free</td>\n",
       "      <td>0</td>\n",
       "      <td>Everyone</td>\n",
       "      <td>Productivity</td>\n",
       "      <td>August 6, 2018</td>\n",
       "      <td>Varies with device</td>\n",
       "      <td>Varies with device</td>\n",
       "    </tr>\n",
       "    <tr>\n",
       "      <th>6915</th>\n",
       "      <td>Learn SAP BW on HANA</td>\n",
       "      <td>BOOKS_AND_REFERENCE</td>\n",
       "      <td>NaN</td>\n",
       "      <td>0</td>\n",
       "      <td>13M</td>\n",
       "      <td>500+</td>\n",
       "      <td>Free</td>\n",
       "      <td>0</td>\n",
       "      <td>Everyone</td>\n",
       "      <td>Books &amp; Reference</td>\n",
       "      <td>February 13, 2018</td>\n",
       "      <td>1.1</td>\n",
       "      <td>4.0 and up</td>\n",
       "    </tr>\n",
       "  </tbody>\n",
       "</table>\n",
       "</div>"
      ],
      "text/plain": [
       "                                           App             Category  Rating  \\\n",
       "8953                  US DV Lottery 2020 Apply     TRAVEL_AND_LOCAL     4.6   \n",
       "1672             Block Puzzle Classic Legend !                 GAME     4.2   \n",
       "687   Girls Live Chat - Free Text & Video Chat               DATING     4.8   \n",
       "1220                          Cookbook Recipes       FOOD_AND_DRINK     4.1   \n",
       "6784                       Ultimate Control BT             BUSINESS     4.6   \n",
       "6029                             Live Radio BD               FAMILY     4.2   \n",
       "5237                    Hey AJ! It's Saturday!  BOOKS_AND_REFERENCE     5.0   \n",
       "1812                              Hero Hunters                 GAME     4.4   \n",
       "3454                              Google Drive         PRODUCTIVITY     4.4   \n",
       "6915                      Learn SAP BW on HANA  BOOKS_AND_REFERENCE     NaN   \n",
       "\n",
       "      Reviews                Size        Installs  Type  Price Content Rating  \\\n",
       "8953       41                2.0M         10,000+  Free      0       Everyone   \n",
       "1672    17039                4.9M      5,000,000+  Free      0       Everyone   \n",
       "687       110                4.9M         10,000+  Free      0     Mature 17+   \n",
       "1220    46539  Varies with device      5,000,000+  Free      0           Teen   \n",
       "6784       14                4.3M            500+  Free      0       Everyone   \n",
       "6029       69                3.5M         10,000+  Free      0       Everyone   \n",
       "5237       12                 50M            100+  Paid  $3.99       Everyone   \n",
       "1812    70747                 99M      5,000,000+  Free      0           Teen   \n",
       "3454  2731171  Varies with device  1,000,000,000+  Free      0       Everyone   \n",
       "6915        0                 13M            500+  Free      0       Everyone   \n",
       "\n",
       "                 Genres       Last Updated         Current Ver  \\\n",
       "8953     Travel & Local   January 14, 2018                1.02   \n",
       "1672             Puzzle     April 13, 2018                 2.9   \n",
       "687              Dating       July 9, 2018                 8.2   \n",
       "1220       Food & Drink      July 23, 2018  Varies with device   \n",
       "6784           Business       June 6, 2018               3.3.2   \n",
       "6029      Entertainment        May 4, 2015                 1.1   \n",
       "5237  Books & Reference      June 13, 2016               1.0.0   \n",
       "1812             Action      July 31, 2018                 1.7   \n",
       "3454       Productivity     August 6, 2018  Varies with device   \n",
       "6915  Books & Reference  February 13, 2018                 1.1   \n",
       "\n",
       "             Android Ver  \n",
       "8953          4.0 and up  \n",
       "1672        2.3.3 and up  \n",
       "687         4.0.3 and up  \n",
       "1220  Varies with device  \n",
       "6784          4.4 and up  \n",
       "6029          4.0 and up  \n",
       "5237          2.2 and up  \n",
       "1812          4.4 and up  \n",
       "3454  Varies with device  \n",
       "6915          4.0 and up  "
      ]
     },
     "execution_count": 3,
     "metadata": {},
     "output_type": "execute_result"
    }
   ],
   "source": [
    "df.sample(10)"
   ]
  },
  {
   "cell_type": "markdown",
   "id": "c9c21b46-cc8c-4efb-9556-72f791e3186e",
   "metadata": {},
   "source": [
    "# Preprocessing"
   ]
  },
  {
   "cell_type": "code",
   "execution_count": 4,
   "id": "c4bd5bcd-e078-4efa-8ec0-555e43976761",
   "metadata": {},
   "outputs": [
    {
     "data": {
      "text/plain": [
       "Index(['App', 'Category', 'Rating', 'Reviews', 'Size', 'Installs', 'Type',\n",
       "       'Price', 'Content Rating', 'Genres', 'Last Updated', 'Current Ver',\n",
       "       'Android Ver'],\n",
       "      dtype='object')"
      ]
     },
     "execution_count": 4,
     "metadata": {},
     "output_type": "execute_result"
    }
   ],
   "source": [
    "df.columns"
   ]
  },
  {
   "cell_type": "code",
   "execution_count": 5,
   "id": "2432d0b4-7a17-421b-abcd-75a1d0841e44",
   "metadata": {},
   "outputs": [
    {
     "data": {
      "text/plain": [
       "Index(['app', 'category', 'rating', 'reviews', 'size', 'installs', 'type',\n",
       "       'price', 'content_rating', 'genres', 'last_updated', 'current_ver',\n",
       "       'android_ver'],\n",
       "      dtype='object')"
      ]
     },
     "execution_count": 5,
     "metadata": {},
     "output_type": "execute_result"
    }
   ],
   "source": [
    "df.columns = df.columns.str.strip().str.lower().str.replace(\" \", \"_\")\n",
    "df.columns"
   ]
  },
  {
   "cell_type": "code",
   "execution_count": 6,
   "id": "fd6aea23-4200-48c6-9dfe-e6ee564df96e",
   "metadata": {},
   "outputs": [
    {
     "data": {
      "text/plain": [
       "(10841, 13)"
      ]
     },
     "execution_count": 6,
     "metadata": {},
     "output_type": "execute_result"
    }
   ],
   "source": [
    "df.shape"
   ]
  },
  {
   "cell_type": "code",
   "execution_count": 7,
   "id": "c2914c2c-7a40-4744-b341-aaab49fccdfc",
   "metadata": {},
   "outputs": [
    {
     "data": {
      "text/plain": [
       "app                  0\n",
       "category             0\n",
       "rating            1474\n",
       "reviews              0\n",
       "size                 0\n",
       "installs             0\n",
       "type                 1\n",
       "price                0\n",
       "content_rating       1\n",
       "genres               0\n",
       "last_updated         0\n",
       "current_ver          8\n",
       "android_ver          3\n",
       "dtype: int64"
      ]
     },
     "execution_count": 7,
     "metadata": {},
     "output_type": "execute_result"
    }
   ],
   "source": [
    "df.isnull().sum()"
   ]
  },
  {
   "cell_type": "markdown",
   "id": "3620d1ef-7260-43c4-9fd0-1ad12b8ba86d",
   "metadata": {
    "jp-MarkdownHeadingCollapsed": true
   },
   "source": [
    "## category column"
   ]
  },
  {
   "cell_type": "code",
   "execution_count": 8,
   "id": "7842542e-e439-4996-ad6d-39a0768189f2",
   "metadata": {},
   "outputs": [
    {
     "data": {
      "text/plain": [
       "count      10841\n",
       "unique        34\n",
       "top       FAMILY\n",
       "freq        1972\n",
       "Name: category, dtype: object"
      ]
     },
     "execution_count": 8,
     "metadata": {},
     "output_type": "execute_result"
    }
   ],
   "source": [
    "df['category'].describe()"
   ]
  },
  {
   "cell_type": "code",
   "execution_count": 9,
   "id": "e296670a-f204-4bb8-be0d-150a33f5bbb9",
   "metadata": {},
   "outputs": [
    {
     "data": {
      "text/plain": [
       "category\n",
       "FAMILY                 1972\n",
       "GAME                   1144\n",
       "TOOLS                   843\n",
       "MEDICAL                 463\n",
       "BUSINESS                460\n",
       "PRODUCTIVITY            424\n",
       "PERSONALIZATION         392\n",
       "COMMUNICATION           387\n",
       "SPORTS                  384\n",
       "LIFESTYLE               382\n",
       "FINANCE                 366\n",
       "HEALTH_AND_FITNESS      341\n",
       "PHOTOGRAPHY             335\n",
       "SOCIAL                  295\n",
       "NEWS_AND_MAGAZINES      283\n",
       "SHOPPING                260\n",
       "TRAVEL_AND_LOCAL        258\n",
       "DATING                  234\n",
       "BOOKS_AND_REFERENCE     231\n",
       "VIDEO_PLAYERS           175\n",
       "EDUCATION               156\n",
       "ENTERTAINMENT           149\n",
       "MAPS_AND_NAVIGATION     137\n",
       "FOOD_AND_DRINK          127\n",
       "HOUSE_AND_HOME           88\n",
       "LIBRARIES_AND_DEMO       85\n",
       "AUTO_AND_VEHICLES        85\n",
       "WEATHER                  82\n",
       "ART_AND_DESIGN           65\n",
       "EVENTS                   64\n",
       "PARENTING                60\n",
       "COMICS                   60\n",
       "BEAUTY                   53\n",
       "1.9                       1\n",
       "Name: count, dtype: int64"
      ]
     },
     "execution_count": 9,
     "metadata": {},
     "output_type": "execute_result"
    }
   ],
   "source": [
    "df['category'].value_counts()"
   ]
  },
  {
   "cell_type": "code",
   "execution_count": 10,
   "id": "ada4ddd2-9082-4cd9-a812-13f0ac4324da",
   "metadata": {},
   "outputs": [],
   "source": [
    "df = df[df['category'] != '1.9']"
   ]
  },
  {
   "cell_type": "code",
   "execution_count": 11,
   "id": "2e4b6b4a-67ff-4537-9e91-b49a4e84d25c",
   "metadata": {},
   "outputs": [
    {
     "data": {
      "text/plain": [
       "Text(0.5, 1.0, 'Categories with their counts')"
      ]
     },
     "execution_count": 11,
     "metadata": {},
     "output_type": "execute_result"
    },
    {
     "data": {
      "image/png": "[encoded data removed]",
      "text/plain": [
       "<Figure size 640x480 with 1 Axes>"
      ]
     },
     "metadata": {},
     "output_type": "display_data"
    }
   ],
   "source": [
    "order = df['category'].value_counts().index\n",
    "\n",
    "sns.countplot(y = \"category\", data = df, order=order)\n",
    "plt.title(\"Categories with their counts\")"
   ]
  },
  {
   "cell_type": "markdown",
   "id": "79acd062-eaff-4950-9fcd-3d4c1c1458da",
   "metadata": {
    "jp-MarkdownHeadingCollapsed": true
   },
   "source": [
    "## rating column"
   ]
  },
  {
   "cell_type": "code",
   "execution_count": 12,
   "id": "7bd252ae-a1e5-453b-a5c3-58b4daa0ec62",
   "metadata": {},
   "outputs": [],
   "source": [
    "rating_median = df['rating'].median()\n",
    "df['rating'] = df['rating'].fillna(rating_median)"
   ]
  },
  {
   "cell_type": "code",
   "execution_count": 13,
   "id": "5d10a6b9-f0bf-4c8b-af84-50298884f4a0",
   "metadata": {},
   "outputs": [
    {
     "data": {
      "text/plain": [
       "app               0\n",
       "category          0\n",
       "rating            0\n",
       "reviews           0\n",
       "size              0\n",
       "installs          0\n",
       "type              1\n",
       "price             0\n",
       "content_rating    0\n",
       "genres            0\n",
       "last_updated      0\n",
       "current_ver       8\n",
       "android_ver       2\n",
       "dtype: int64"
      ]
     },
     "execution_count": 13,
     "metadata": {},
     "output_type": "execute_result"
    }
   ],
   "source": [
    "df.isnull().sum()"
   ]
  },
  {
   "cell_type": "code",
   "execution_count": 14,
   "id": "a31cc192-c0fd-45fd-8967-4ce77d273cfc",
   "metadata": {},
   "outputs": [
    {
     "data": {
      "text/plain": [
       "count    10840.000000\n",
       "mean         4.206476\n",
       "std          0.480342\n",
       "min          1.000000\n",
       "25%          4.100000\n",
       "50%          4.300000\n",
       "75%          4.500000\n",
       "max          5.000000\n",
       "Name: rating, dtype: float64"
      ]
     },
     "execution_count": 14,
     "metadata": {},
     "output_type": "execute_result"
    }
   ],
   "source": [
    "df['rating'].describe()"
   ]
  },
  {
   "cell_type": "code",
   "execution_count": 15,
   "id": "8ecc244d-0034-49e4-95d1-bc3cbf0dd360",
   "metadata": {},
   "outputs": [
    {
     "name": "stdout",
     "output_type": "stream",
     "text": [
      "float64\n"
     ]
    }
   ],
   "source": [
    "print(df['rating'].dtype)"
   ]
  },
  {
   "cell_type": "code",
   "execution_count": 16,
   "id": "27ccad7c-3aea-483d-a56e-2e740b508851",
   "metadata": {},
   "outputs": [
    {
     "data": {
      "text/plain": [
       "-2.0625185561411414"
      ]
     },
     "execution_count": 16,
     "metadata": {},
     "output_type": "execute_result"
    }
   ],
   "source": [
    "df[\"rating\"].skew()"
   ]
  },
  {
   "cell_type": "code",
   "execution_count": 17,
   "id": "4c0732cc-995f-4fbc-874d-0c029fa03995",
   "metadata": {},
   "outputs": [
    {
     "data": {
      "text/plain": [
       "Text(0.5, 1.0, 'Distribution of rating')"
      ]
     },
     "execution_count": 17,
     "metadata": {},
     "output_type": "execute_result"
    },
    {
     "data": {
      "image/png": "[encoded data removed]",
      "text/plain": [
       "<Figure size 640x480 with 1 Axes>"
      ]
     },
     "metadata": {},
     "output_type": "display_data"
    }
   ],
   "source": [
    "ax = sns.histplot(data=df['rating'], bins=20, kde=True, color='#4682B4')\n",
    "ax.lines[0].set_color('#FF6F61')\n",
    "plt.title(\"Distribution of rating\")"
   ]
  },
  {
   "cell_type": "code",
   "execution_count": 18,
   "id": "d310b852-c2a4-4e8b-a5f9-1b4eede5e39e",
   "metadata": {},
   "outputs": [],
   "source": [
    "# Log transform makes negative skew worse, Yeo-Johnson is a better choice here\n",
    "from sklearn.preprocessing import PowerTransformer\n",
    "\n",
    "pt_rating = PowerTransformer(method=\"yeo-johnson\")\n",
    "df[\"rating_transformed\"] = pt_rating.fit_transform(df[[\"rating\"]])"
   ]
  },
  {
   "cell_type": "code",
   "execution_count": 19,
   "id": "0e62972e-a75c-4182-96ad-8729a65d0520",
   "metadata": {},
   "outputs": [
    {
     "data": {
      "text/plain": [
       "Text(0.5, 1.0, 'Distribution of ratings (rating_transformed)')"
      ]
     },
     "execution_count": 19,
     "metadata": {},
     "output_type": "execute_result"
    },
    {
     "data": {
      "image/png": "[encoded data removed]",
      "text/plain": [
       "<Figure size 640x480 with 1 Axes>"
      ]
     },
     "metadata": {},
     "output_type": "display_data"
    }
   ],
   "source": [
    "ax = sns.histplot(data=df['rating_transformed'], bins=20, kde=True, color='#4682B4')\n",
    "ax.lines[0].set_color('#FF6F61')\n",
    "plt.title(\"Distribution of ratings (rating_transformed)\")"
   ]
  },
  {
   "cell_type": "code",
   "execution_count": 20,
   "id": "f9719eaa-3350-43fa-93cd-e12720eb05d7",
   "metadata": {},
   "outputs": [
    {
     "data": {
      "text/plain": [
       "-0.005331828101793434"
      ]
     },
     "execution_count": 20,
     "metadata": {},
     "output_type": "execute_result"
    }
   ],
   "source": [
    "df[\"rating_transformed\"].skew()"
   ]
  },
  {
   "cell_type": "code",
   "execution_count": 21,
   "id": "41ae685a-49df-4902-b24f-6d6197b31a38",
   "metadata": {},
   "outputs": [],
   "source": [
    "df = df.drop(columns=[\"rating\"])"
   ]
  },
  {
   "cell_type": "markdown",
   "id": "a20d052e-5f49-439d-965a-0c5f4888f103",
   "metadata": {
    "jp-MarkdownHeadingCollapsed": true
   },
   "source": [
    "## reviews column"
   ]
  },
  {
   "cell_type": "code",
   "execution_count": 22,
   "id": "45ac4718-e078-470f-9a88-8ebe23f98c50",
   "metadata": {},
   "outputs": [
    {
     "data": {
      "text/plain": [
       "0           159\n",
       "1           967\n",
       "2         87510\n",
       "3        215644\n",
       "4           967\n",
       "          ...  \n",
       "10836        38\n",
       "10837         4\n",
       "10838         3\n",
       "10839       114\n",
       "10840    398307\n",
       "Name: reviews, Length: 10840, dtype: object"
      ]
     },
     "execution_count": 22,
     "metadata": {},
     "output_type": "execute_result"
    }
   ],
   "source": [
    "df[\"reviews\"]"
   ]
  },
  {
   "cell_type": "code",
   "execution_count": 23,
   "id": "ae445cd1-989d-47ef-87f7-ef0f8a710353",
   "metadata": {},
   "outputs": [
    {
     "data": {
      "text/plain": [
       "count     10840\n",
       "unique     6001\n",
       "top           0\n",
       "freq        596\n",
       "Name: reviews, dtype: object"
      ]
     },
     "execution_count": 23,
     "metadata": {},
     "output_type": "execute_result"
    }
   ],
   "source": [
    "df[\"reviews\"].describe()"
   ]
  },
  {
   "cell_type": "code",
   "execution_count": 24,
   "id": "bf9f0889-a86e-440c-a04c-95e1608d3277",
   "metadata": {},
   "outputs": [],
   "source": [
    "df[\"reviews\"] = df[\"reviews\"].astype('int64')"
   ]
  },
  {
   "cell_type": "code",
   "execution_count": 25,
   "id": "f455b1f6-c2d5-405a-bc74-b61ee0f82fea",
   "metadata": {},
   "outputs": [
    {
     "data": {
      "text/plain": [
       "dtype('int64')"
      ]
     },
     "execution_count": 25,
     "metadata": {},
     "output_type": "execute_result"
    }
   ],
   "source": [
    "df[\"reviews\"].dtype"
   ]
  },
  {
   "cell_type": "code",
   "execution_count": 26,
   "id": "4e23f38a-e959-470c-b717-1b5778f071b9",
   "metadata": {},
   "outputs": [
    {
     "data": {
      "text/plain": [
       "16.449584335038757"
      ]
     },
     "execution_count": 26,
     "metadata": {},
     "output_type": "execute_result"
    }
   ],
   "source": [
    "df[\"reviews\"].skew()"
   ]
  },
  {
   "cell_type": "code",
   "execution_count": 27,
   "id": "7055208d-0c42-417d-98b6-7d4a0f1d7be5",
   "metadata": {},
   "outputs": [
    {
     "data": {
      "text/plain": [
       "Text(0.5, 1.0, 'Distribution of reviews')"
      ]
     },
     "execution_count": 27,
     "metadata": {},
     "output_type": "execute_result"
    },
    {
     "data": {
      "image/png": "[encoded data removed]",
      "text/plain": [
       "<Figure size 640x480 with 1 Axes>"
      ]
     },
     "metadata": {},
     "output_type": "display_data"
    }
   ],
   "source": [
    "ax = sns.histplot(data=df['reviews'], bins=70, kde=False, color='#4682B4')\n",
    "# ax.lines[0].set_color('#FF6F61')\n",
    "plt.title(\"Distribution of reviews\")"
   ]
  },
  {
   "cell_type": "code",
   "execution_count": 28,
   "id": "ab091fdd-c8f0-4c7a-8d89-f2cdda351581",
   "metadata": {},
   "outputs": [],
   "source": [
    "df[\"reviews_log\"] = np.log1p(df[\"reviews\"])"
   ]
  },
  {
   "cell_type": "code",
   "execution_count": 29,
   "id": "8168b191-a6d7-4749-a3c5-e10e5cc0808b",
   "metadata": {},
   "outputs": [
    {
     "data": {
      "text/plain": [
       "-0.01567309109651736"
      ]
     },
     "execution_count": 29,
     "metadata": {},
     "output_type": "execute_result"
    }
   ],
   "source": [
    "df[\"reviews_log\"].skew()"
   ]
  },
  {
   "cell_type": "code",
   "execution_count": 30,
   "id": "c4268fe8-52e2-4b68-8441-18050c926b2a",
   "metadata": {},
   "outputs": [
    {
     "data": {
      "text/plain": [
       "Text(0.5, 1.0, 'Distribution of reviews (log transformed)')"
      ]
     },
     "execution_count": 30,
     "metadata": {},
     "output_type": "execute_result"
    },
    {
     "data": {
      "image/png": "[encoded data removed]",
      "text/plain": [
       "<Figure size 640x480 with 1 Axes>"
      ]
     },
     "metadata": {},
     "output_type": "display_data"
    }
   ],
   "source": [
    "ax = sns.histplot(data=df['reviews_log'], bins=70, kde=True, color='#4682B4')\n",
    "ax.lines[0].set_color('#FF6F61')\n",
    "plt.title(\"Distribution of reviews (log transformed)\")"
   ]
  },
  {
   "cell_type": "code",
   "execution_count": 31,
   "id": "9c8f86a1-78bd-440f-876c-34aafae4114a",
   "metadata": {},
   "outputs": [],
   "source": [
    "df = df.drop(columns=['reviews'])"
   ]
  },
  {
   "cell_type": "markdown",
   "id": "89ddfc5a-5def-419a-9f2f-142da5afcf31",
   "metadata": {
    "jp-MarkdownHeadingCollapsed": true
   },
   "source": [
    "## size column"
   ]
  },
  {
   "cell_type": "code",
   "execution_count": 32,
   "id": "d3c1ad97-e2e3-4bcd-bca0-5aef56d7be3d",
   "metadata": {},
   "outputs": [
    {
     "data": {
      "text/plain": [
       "0                       19M\n",
       "1                       14M\n",
       "2                      8.7M\n",
       "3                       25M\n",
       "4                      2.8M\n",
       "                ...        \n",
       "10836                   53M\n",
       "10837                  3.6M\n",
       "10838                  9.5M\n",
       "10839    Varies with device\n",
       "10840                   19M\n",
       "Name: size, Length: 10840, dtype: object"
      ]
     },
     "execution_count": 32,
     "metadata": {},
     "output_type": "execute_result"
    }
   ],
   "source": [
    "df['size']"
   ]
  },
  {
   "cell_type": "code",
   "execution_count": 33,
   "id": "b334300c-bc1b-419b-b5a3-236ea90e2c2e",
   "metadata": {},
   "outputs": [
    {
     "data": {
      "text/plain": [
       "array(['19M', '14M', '8.7M', '25M', '2.8M', '5.6M', '29M', '33M', '3.1M',\n",
       "       '28M', '12M', '20M', '21M', '37M', '2.7M', '5.5M', '17M', '39M',\n",
       "       '31M', '4.2M', '7.0M', '23M', '6.0M', '6.1M', '4.6M', '9.2M',\n",
       "       '5.2M', '11M', '24M', 'Varies with device', '9.4M', '15M', '10M',\n",
       "       '1.2M', '26M', '8.0M', '7.9M', '56M', '57M', '35M', '54M', '201k',\n",
       "       '3.6M', '5.7M', '8.6M', '2.4M', '27M', '2.5M', '16M', '3.4M',\n",
       "       '8.9M', '3.9M', '2.9M', '38M', '32M', '5.4M', '18M', '1.1M',\n",
       "       '2.2M', '4.5M', '9.8M', '52M', '9.0M', '6.7M', '30M', '2.6M',\n",
       "       '7.1M', '3.7M', '22M', '7.4M', '6.4M', '3.2M', '8.2M', '9.9M',\n",
       "       '4.9M', '9.5M', '5.0M', '5.9M', '13M', '73M', '6.8M', '3.5M',\n",
       "       '4.0M', '2.3M', '7.2M', '2.1M', '42M', '7.3M', '9.1M', '55M',\n",
       "       '23k', '6.5M', '1.5M', '7.5M', '51M', '41M', '48M', '8.5M', '46M',\n",
       "       '8.3M', '4.3M', '4.7M', '3.3M', '40M', '7.8M', '8.8M', '6.6M',\n",
       "       '5.1M', '61M', '66M', '79k', '8.4M', '118k', '44M', '695k', '1.6M',\n",
       "       '6.2M', '18k', '53M', '1.4M', '3.0M', '5.8M', '3.8M', '9.6M',\n",
       "       '45M', '63M', '49M', '77M', '4.4M', '4.8M', '70M', '6.9M', '9.3M',\n",
       "       '10.0M', '8.1M', '36M', '84M', '97M', '2.0M', '1.9M', '1.8M',\n",
       "       '5.3M', '47M', '556k', '526k', '76M', '7.6M', '59M', '9.7M', '78M',\n",
       "       '72M', '43M', '7.7M', '6.3M', '334k', '34M', '93M', '65M', '79M',\n",
       "       '100M', '58M', '50M', '68M', '64M', '67M', '60M', '94M', '232k',\n",
       "       '99M', '624k', '95M', '8.5k', '41k', '292k', '11k', '80M', '1.7M',\n",
       "       '74M', '62M', '69M', '75M', '98M', '85M', '82M', '96M', '87M',\n",
       "       '71M', '86M', '91M', '81M', '92M', '83M', '88M', '704k', '862k',\n",
       "       '899k', '378k', '266k', '375k', '1.3M', '975k', '980k', '4.1M',\n",
       "       '89M', '696k', '544k', '525k', '920k', '779k', '853k', '720k',\n",
       "       '713k', '772k', '318k', '58k', '241k', '196k', '857k', '51k',\n",
       "       '953k', '865k', '251k', '930k', '540k', '313k', '746k', '203k',\n",
       "       '26k', '314k', '239k', '371k', '220k', '730k', '756k', '91k',\n",
       "       '293k', '17k', '74k', '14k', '317k', '78k', '924k', '902k', '818k',\n",
       "       '81k', '939k', '169k', '45k', '475k', '965k', '90M', '545k', '61k',\n",
       "       '283k', '655k', '714k', '93k', '872k', '121k', '322k', '1.0M',\n",
       "       '976k', '172k', '238k', '549k', '206k', '954k', '444k', '717k',\n",
       "       '210k', '609k', '308k', '705k', '306k', '904k', '473k', '175k',\n",
       "       '350k', '383k', '454k', '421k', '70k', '812k', '442k', '842k',\n",
       "       '417k', '412k', '459k', '478k', '335k', '782k', '721k', '430k',\n",
       "       '429k', '192k', '200k', '460k', '728k', '496k', '816k', '414k',\n",
       "       '506k', '887k', '613k', '243k', '569k', '778k', '683k', '592k',\n",
       "       '319k', '186k', '840k', '647k', '191k', '373k', '437k', '598k',\n",
       "       '716k', '585k', '982k', '222k', '219k', '55k', '948k', '323k',\n",
       "       '691k', '511k', '951k', '963k', '25k', '554k', '351k', '27k',\n",
       "       '82k', '208k', '913k', '514k', '551k', '29k', '103k', '898k',\n",
       "       '743k', '116k', '153k', '209k', '353k', '499k', '173k', '597k',\n",
       "       '809k', '122k', '411k', '400k', '801k', '787k', '237k', '50k',\n",
       "       '643k', '986k', '97k', '516k', '837k', '780k', '961k', '269k',\n",
       "       '20k', '498k', '600k', '749k', '642k', '881k', '72k', '656k',\n",
       "       '601k', '221k', '228k', '108k', '940k', '176k', '33k', '663k',\n",
       "       '34k', '942k', '259k', '164k', '458k', '245k', '629k', '28k',\n",
       "       '288k', '775k', '785k', '636k', '916k', '994k', '309k', '485k',\n",
       "       '914k', '903k', '608k', '500k', '54k', '562k', '847k', '957k',\n",
       "       '688k', '811k', '270k', '48k', '329k', '523k', '921k', '874k',\n",
       "       '981k', '784k', '280k', '24k', '518k', '754k', '892k', '154k',\n",
       "       '860k', '364k', '387k', '626k', '161k', '879k', '39k', '970k',\n",
       "       '170k', '141k', '160k', '144k', '143k', '190k', '376k', '193k',\n",
       "       '246k', '73k', '658k', '992k', '253k', '420k', '404k', '470k',\n",
       "       '226k', '240k', '89k', '234k', '257k', '861k', '467k', '157k',\n",
       "       '44k', '676k', '67k', '552k', '885k', '1020k', '582k', '619k'],\n",
       "      dtype=object)"
      ]
     },
     "execution_count": 33,
     "metadata": {},
     "output_type": "execute_result"
    }
   ],
   "source": [
    "df['size'].unique()"
   ]
  },
  {
   "cell_type": "code",
   "execution_count": 34,
   "id": "cf3e0ae3-92df-4f7a-aea1-2824cfe0568f",
   "metadata": {},
   "outputs": [
    {
     "data": {
      "text/plain": [
       "size\n",
       "Varies with device    1695\n",
       "11M                    198\n",
       "12M                    196\n",
       "14M                    194\n",
       "13M                    191\n",
       "                      ... \n",
       "430k                     1\n",
       "429k                     1\n",
       "200k                     1\n",
       "460k                     1\n",
       "619k                     1\n",
       "Name: count, Length: 461, dtype: int64"
      ]
     },
     "execution_count": 34,
     "metadata": {},
     "output_type": "execute_result"
    }
   ],
   "source": [
    "df['size'].value_counts()"
   ]
  },
  {
   "cell_type": "markdown",
   "id": "9fe50857-1bfe-4b15-b2f5-a69413f027d2",
   "metadata": {},
   "source": [
    "#### remove K and M, convert to megabytes, replace 'Varies with device' with median"
   ]
  },
  {
   "cell_type": "code",
   "execution_count": 35,
   "id": "83dc0cbc-c15d-4057-8492-af7f64fb5dcb",
   "metadata": {},
   "outputs": [],
   "source": [
    "# Operates on string values in a pandas Series (like the size column) and is designed for string manipulation using regular expressions or simple string replacements.\n",
    "df[\"size\"] = df[\"size\"].str.replace(r'(\\d+\\.?\\d*)[kK]', lambda x: str(float(x.group(1)) / 1000), regex=True)\n",
    "\n",
    "# df[\"column\"].replace is typically used to replace entire values in a Series (e.g., replacing \"10K\" with 0.01). \n",
    "# However, when regex=True is used with df[\"column\"].replace, it behaves more like a substring replacement.\n",
    "df[\"size\"] = df[\"size\"].replace(\"M\",\"\", regex=True)"
   ]
  },
  {
   "cell_type": "code",
   "execution_count": 36,
   "id": "2c44b2c3-3669-4b54-8502-b28492e0cba7",
   "metadata": {},
   "outputs": [],
   "source": [
    "# Using df[\"size\"] = df[\"size\"].astype('float64') -> could not convert string to float: 'Varies with device'\n",
    "\n",
    "# convert 'Varies with device' to nan\n",
    "df[\"size\"] = pd.to_numeric(df[\"size\"], errors='coerce').astype('float64')"
   ]
  },
  {
   "cell_type": "code",
   "execution_count": 37,
   "id": "340cfad1-b3d0-4ab1-87fa-cbdf93fbf7ad",
   "metadata": {},
   "outputs": [],
   "source": [
    "size_median = df['size'].median()\n",
    "df['size'] = df['size'].fillna(size_median)"
   ]
  },
  {
   "cell_type": "code",
   "execution_count": 38,
   "id": "86e840b7-93ae-4ba3-9470-84855e24161c",
   "metadata": {},
   "outputs": [
    {
     "data": {
      "text/plain": [
       "array([1.90e+01, 1.40e+01, 8.70e+00, 2.50e+01, 2.80e+00, 5.60e+00,\n",
       "       2.90e+01, 3.30e+01, 3.10e+00, 2.80e+01, 1.20e+01, 2.00e+01,\n",
       "       2.10e+01, 3.70e+01, 2.70e+00, 5.50e+00, 1.70e+01, 3.90e+01,\n",
       "       3.10e+01, 4.20e+00, 7.00e+00, 2.30e+01, 6.00e+00, 6.10e+00,\n",
       "       4.60e+00, 9.20e+00, 5.20e+00, 1.10e+01, 2.40e+01, 1.30e+01,\n",
       "       9.40e+00, 1.50e+01, 1.00e+01, 1.20e+00, 2.60e+01, 8.00e+00,\n",
       "       7.90e+00, 5.60e+01, 5.70e+01, 3.50e+01, 5.40e+01, 2.01e-01,\n",
       "       3.60e+00, 5.70e+00, 8.60e+00, 2.40e+00, 2.70e+01, 2.50e+00,\n",
       "       1.60e+01, 3.40e+00, 8.90e+00, 3.90e+00, 2.90e+00, 3.80e+01,\n",
       "       3.20e+01, 5.40e+00, 1.80e+01, 1.10e+00, 2.20e+00, 4.50e+00,\n",
       "       9.80e+00, 5.20e+01, 9.00e+00, 6.70e+00, 3.00e+01, 2.60e+00,\n",
       "       7.10e+00, 3.70e+00, 2.20e+01, 7.40e+00, 6.40e+00, 3.20e+00,\n",
       "       8.20e+00, 9.90e+00, 4.90e+00, 9.50e+00, 5.00e+00, 5.90e+00,\n",
       "       7.30e+01, 6.80e+00, 3.50e+00, 4.00e+00, 2.30e+00, 7.20e+00,\n",
       "       2.10e+00, 4.20e+01, 7.30e+00, 9.10e+00, 5.50e+01, 2.30e-02,\n",
       "       6.50e+00, 1.50e+00, 7.50e+00, 5.10e+01, 4.10e+01, 4.80e+01,\n",
       "       8.50e+00, 4.60e+01, 8.30e+00, 4.30e+00, 4.70e+00, 3.30e+00,\n",
       "       4.00e+01, 7.80e+00, 8.80e+00, 6.60e+00, 5.10e+00, 6.10e+01,\n",
       "       6.60e+01, 7.90e-02, 8.40e+00, 1.18e-01, 4.40e+01, 6.95e-01,\n",
       "       1.60e+00, 6.20e+00, 1.80e-02, 5.30e+01, 1.40e+00, 3.00e+00,\n",
       "       5.80e+00, 3.80e+00, 9.60e+00, 4.50e+01, 6.30e+01, 4.90e+01,\n",
       "       7.70e+01, 4.40e+00, 4.80e+00, 7.00e+01, 6.90e+00, 9.30e+00,\n",
       "       8.10e+00, 3.60e+01, 8.40e+01, 9.70e+01, 2.00e+00, 1.90e+00,\n",
       "       1.80e+00, 5.30e+00, 4.70e+01, 5.56e-01, 5.26e-01, 7.60e+01,\n",
       "       7.60e+00, 5.90e+01, 9.70e+00, 7.80e+01, 7.20e+01, 4.30e+01,\n",
       "       7.70e+00, 6.30e+00, 3.34e-01, 3.40e+01, 9.30e+01, 6.50e+01,\n",
       "       7.90e+01, 1.00e+02, 5.80e+01, 5.00e+01, 6.80e+01, 6.40e+01,\n",
       "       6.70e+01, 6.00e+01, 9.40e+01, 2.32e-01, 9.90e+01, 6.24e-01,\n",
       "       9.50e+01, 8.50e-03, 4.10e-02, 2.92e-01, 1.10e-02, 8.00e+01,\n",
       "       1.70e+00, 7.40e+01, 6.20e+01, 6.90e+01, 7.50e+01, 9.80e+01,\n",
       "       8.50e+01, 8.20e+01, 9.60e+01, 8.70e+01, 7.10e+01, 8.60e+01,\n",
       "       9.10e+01, 8.10e+01, 9.20e+01, 8.30e+01, 8.80e+01, 7.04e-01,\n",
       "       8.62e-01, 8.99e-01, 3.78e-01, 2.66e-01, 3.75e-01, 1.30e+00,\n",
       "       9.75e-01, 9.80e-01, 4.10e+00, 8.90e+01, 6.96e-01, 5.44e-01,\n",
       "       5.25e-01, 9.20e-01, 7.79e-01, 8.53e-01, 7.20e-01, 7.13e-01,\n",
       "       7.72e-01, 3.18e-01, 5.80e-02, 2.41e-01, 1.96e-01, 8.57e-01,\n",
       "       5.10e-02, 9.53e-01, 8.65e-01, 2.51e-01, 9.30e-01, 5.40e-01,\n",
       "       3.13e-01, 7.46e-01, 2.03e-01, 2.60e-02, 3.14e-01, 2.39e-01,\n",
       "       3.71e-01, 2.20e-01, 7.30e-01, 7.56e-01, 9.10e-02, 2.93e-01,\n",
       "       1.70e-02, 7.40e-02, 1.40e-02, 3.17e-01, 7.80e-02, 9.24e-01,\n",
       "       9.02e-01, 8.18e-01, 8.10e-02, 9.39e-01, 1.69e-01, 4.50e-02,\n",
       "       4.75e-01, 9.65e-01, 9.00e+01, 5.45e-01, 6.10e-02, 2.83e-01,\n",
       "       6.55e-01, 7.14e-01, 9.30e-02, 8.72e-01, 1.21e-01, 3.22e-01,\n",
       "       1.00e+00, 9.76e-01, 1.72e-01, 2.38e-01, 5.49e-01, 2.06e-01,\n",
       "       9.54e-01, 4.44e-01, 7.17e-01, 2.10e-01, 6.09e-01, 3.08e-01,\n",
       "       7.05e-01, 3.06e-01, 9.04e-01, 4.73e-01, 1.75e-01, 3.50e-01,\n",
       "       3.83e-01, 4.54e-01, 4.21e-01, 7.00e-02, 8.12e-01, 4.42e-01,\n",
       "       8.42e-01, 4.17e-01, 4.12e-01, 4.59e-01, 4.78e-01, 3.35e-01,\n",
       "       7.82e-01, 7.21e-01, 4.30e-01, 4.29e-01, 1.92e-01, 2.00e-01,\n",
       "       4.60e-01, 7.28e-01, 4.96e-01, 8.16e-01, 4.14e-01, 5.06e-01,\n",
       "       8.87e-01, 6.13e-01, 2.43e-01, 5.69e-01, 7.78e-01, 6.83e-01,\n",
       "       5.92e-01, 3.19e-01, 1.86e-01, 8.40e-01, 6.47e-01, 1.91e-01,\n",
       "       3.73e-01, 4.37e-01, 5.98e-01, 7.16e-01, 5.85e-01, 9.82e-01,\n",
       "       2.22e-01, 2.19e-01, 5.50e-02, 9.48e-01, 3.23e-01, 6.91e-01,\n",
       "       5.11e-01, 9.51e-01, 9.63e-01, 2.50e-02, 5.54e-01, 3.51e-01,\n",
       "       2.70e-02, 8.20e-02, 2.08e-01, 9.13e-01, 5.14e-01, 5.51e-01,\n",
       "       2.90e-02, 1.03e-01, 8.98e-01, 7.43e-01, 1.16e-01, 1.53e-01,\n",
       "       2.09e-01, 3.53e-01, 4.99e-01, 1.73e-01, 5.97e-01, 8.09e-01,\n",
       "       1.22e-01, 4.11e-01, 4.00e-01, 8.01e-01, 7.87e-01, 2.37e-01,\n",
       "       5.00e-02, 6.43e-01, 9.86e-01, 9.70e-02, 5.16e-01, 8.37e-01,\n",
       "       7.80e-01, 9.61e-01, 2.69e-01, 2.00e-02, 4.98e-01, 6.00e-01,\n",
       "       7.49e-01, 6.42e-01, 8.81e-01, 7.20e-02, 6.56e-01, 6.01e-01,\n",
       "       2.21e-01, 2.28e-01, 1.08e-01, 9.40e-01, 1.76e-01, 3.30e-02,\n",
       "       6.63e-01, 3.40e-02, 9.42e-01, 2.59e-01, 1.64e-01, 4.58e-01,\n",
       "       2.45e-01, 6.29e-01, 2.80e-02, 2.88e-01, 7.75e-01, 7.85e-01,\n",
       "       6.36e-01, 9.16e-01, 9.94e-01, 3.09e-01, 4.85e-01, 9.14e-01,\n",
       "       9.03e-01, 6.08e-01, 5.00e-01, 5.40e-02, 5.62e-01, 8.47e-01,\n",
       "       9.57e-01, 6.88e-01, 8.11e-01, 2.70e-01, 4.80e-02, 3.29e-01,\n",
       "       5.23e-01, 9.21e-01, 8.74e-01, 9.81e-01, 7.84e-01, 2.80e-01,\n",
       "       2.40e-02, 5.18e-01, 7.54e-01, 8.92e-01, 1.54e-01, 8.60e-01,\n",
       "       3.64e-01, 3.87e-01, 6.26e-01, 1.61e-01, 8.79e-01, 3.90e-02,\n",
       "       9.70e-01, 1.70e-01, 1.41e-01, 1.60e-01, 1.44e-01, 1.43e-01,\n",
       "       1.90e-01, 3.76e-01, 1.93e-01, 2.46e-01, 7.30e-02, 6.58e-01,\n",
       "       9.92e-01, 2.53e-01, 4.20e-01, 4.04e-01, 4.70e-01, 2.26e-01,\n",
       "       2.40e-01, 8.90e-02, 2.34e-01, 2.57e-01, 8.61e-01, 4.67e-01,\n",
       "       1.57e-01, 4.40e-02, 6.76e-01, 6.70e-02, 5.52e-01, 8.85e-01,\n",
       "       1.02e+00, 5.82e-01, 6.19e-01])"
      ]
     },
     "execution_count": 38,
     "metadata": {},
     "output_type": "execute_result"
    }
   ],
   "source": [
    "df['size'].unique()"
   ]
  },
  {
   "cell_type": "code",
   "execution_count": 39,
   "id": "41e241ef-8265-4537-8994-ac2a7c084712",
   "metadata": {},
   "outputs": [
    {
     "data": {
      "text/plain": [
       "1.820801293653534"
      ]
     },
     "execution_count": 39,
     "metadata": {},
     "output_type": "execute_result"
    }
   ],
   "source": [
    "df['size'].skew()"
   ]
  },
  {
   "cell_type": "code",
   "execution_count": 40,
   "id": "be3e0b48-884b-4113-82d1-092382d993e0",
   "metadata": {},
   "outputs": [
    {
     "data": {
      "text/plain": [
       "Text(0.5, 1.0, 'Distribution of size')"
      ]
     },
     "execution_count": 40,
     "metadata": {},
     "output_type": "execute_result"
    },
    {
     "data": {
      "image/png": "[encoded data removed]",
      "text/plain": [
       "<Figure size 640x480 with 1 Axes>"
      ]
     },
     "metadata": {},
     "output_type": "display_data"
    }
   ],
   "source": [
    "ax = sns.histplot(data=df['size'], bins=50, kde=True, color='#4682B4')\n",
    "ax.lines[0].set_color('#FF6F61')\n",
    "plt.title(\"Distribution of size\")"
   ]
  },
  {
   "cell_type": "code",
   "execution_count": 41,
   "id": "9242c0c4-106e-4dea-8289-e10f0493e2f3",
   "metadata": {},
   "outputs": [
    {
     "data": {
      "text/plain": [
       "1.820801293653534"
      ]
     },
     "execution_count": 41,
     "metadata": {},
     "output_type": "execute_result"
    }
   ],
   "source": [
    "df['size'].skew()"
   ]
  },
  {
   "cell_type": "code",
   "execution_count": 42,
   "id": "48156bd3-1a1b-4b98-96ad-1faf7a7349a0",
   "metadata": {},
   "outputs": [],
   "source": [
    "# Apply cube root (³√x) transformation to reduce skewness\n",
    "df[\"size\"] = np.cbrt(df[\"size\"])"
   ]
  },
  {
   "cell_type": "code",
   "execution_count": 43,
   "id": "e93546ea-52d5-4f57-9302-1216379dc6ad",
   "metadata": {},
   "outputs": [
    {
     "data": {
      "text/plain": [
       "0.40756686661018354"
      ]
     },
     "execution_count": 43,
     "metadata": {},
     "output_type": "execute_result"
    }
   ],
   "source": [
    "df['size'].skew()"
   ]
  },
  {
   "cell_type": "code",
   "execution_count": 44,
   "id": "17562054-1f54-4f39-9988-93c1b0572f4f",
   "metadata": {},
   "outputs": [
    {
     "data": {
      "text/plain": [
       "Text(0.5, 1.0, 'Distribution of size')"
      ]
     },
     "execution_count": 44,
     "metadata": {},
     "output_type": "execute_result"
    },
    {
     "data": {
      "image/png": "[encoded data removed]",
      "text/plain": [
       "<Figure size 640x480 with 1 Axes>"
      ]
     },
     "metadata": {},
     "output_type": "display_data"
    }
   ],
   "source": [
    "ax = sns.histplot(data=df['size'], bins=30, kde=True, color='#4682B4')\n",
    "ax.lines[0].set_color('#FF6F61')\n",
    "plt.title(\"Distribution of size\")"
   ]
  },
  {
   "cell_type": "markdown",
   "id": "1121bc4b-de51-42cb-918a-98040e811822",
   "metadata": {
    "jp-MarkdownHeadingCollapsed": true
   },
   "source": [
    "## installs column"
   ]
  },
  {
   "cell_type": "code",
   "execution_count": 45,
   "id": "e3151be6-cff5-4b99-8a22-5c37c92cb151",
   "metadata": {},
   "outputs": [
    {
     "data": {
      "text/plain": [
       "installs\n",
       "1,000,000+        1579\n",
       "10,000,000+       1252\n",
       "100,000+          1169\n",
       "10,000+           1054\n",
       "1,000+             907\n",
       "5,000,000+         752\n",
       "100+               719\n",
       "500,000+           539\n",
       "50,000+            479\n",
       "5,000+             477\n",
       "100,000,000+       409\n",
       "10+                386\n",
       "500+               330\n",
       "50,000,000+        289\n",
       "50+                205\n",
       "5+                  82\n",
       "500,000,000+        72\n",
       "1+                  67\n",
       "1,000,000,000+      58\n",
       "0+                  14\n",
       "0                    1\n",
       "Name: count, dtype: int64"
      ]
     },
     "execution_count": 45,
     "metadata": {},
     "output_type": "execute_result"
    }
   ],
   "source": [
    "df['installs'].value_counts()"
   ]
  },
  {
   "cell_type": "code",
   "execution_count": 46,
   "id": "28c335f9-cec4-4bbe-97e7-643eabdefb03",
   "metadata": {},
   "outputs": [],
   "source": [
    "df['installs'] = df['installs'].replace('0', '0+')"
   ]
  },
  {
   "cell_type": "code",
   "execution_count": 47,
   "id": "ddf4c508-298c-404d-93b8-09377295746e",
   "metadata": {},
   "outputs": [],
   "source": [
    "# Use str.replace to remove '+' and ',' inside strings\n",
    "df['installs'] = df['installs'].str.replace('+', '').str.replace(',', '')"
   ]
  },
  {
   "cell_type": "code",
   "execution_count": 48,
   "id": "a3c2b736-8d75-4d15-a7c1-3b1ce431b4c7",
   "metadata": {},
   "outputs": [
    {
     "data": {
      "text/plain": [
       "installs\n",
       "1000000       1579\n",
       "10000000      1252\n",
       "100000        1169\n",
       "10000         1054\n",
       "1000           907\n",
       "5000000        752\n",
       "100            719\n",
       "500000         539\n",
       "50000          479\n",
       "5000           477\n",
       "100000000      409\n",
       "10             386\n",
       "500            330\n",
       "50000000       289\n",
       "50             205\n",
       "5               82\n",
       "500000000       72\n",
       "1               67\n",
       "1000000000      58\n",
       "0               15\n",
       "Name: count, dtype: int64"
      ]
     },
     "execution_count": 48,
     "metadata": {},
     "output_type": "execute_result"
    }
   ],
   "source": [
    "df['installs'].value_counts()"
   ]
  },
  {
   "cell_type": "code",
   "execution_count": 49,
   "id": "71131dc0-a70a-429f-b513-3d1d808993f7",
   "metadata": {},
   "outputs": [],
   "source": [
    "df['installs'] = df['installs'].astype('int64')"
   ]
  },
  {
   "cell_type": "code",
   "execution_count": 50,
   "id": "e721af42-7ff5-4a47-a0b9-abbefbf1e635",
   "metadata": {},
   "outputs": [
    {
     "data": {
      "text/plain": [
       "9.572066754928612"
      ]
     },
     "execution_count": 50,
     "metadata": {},
     "output_type": "execute_result"
    }
   ],
   "source": [
    "df['installs'].skew()"
   ]
  },
  {
   "cell_type": "code",
   "execution_count": 51,
   "id": "25d6d528-0468-4139-8d66-c84eaba7b6de",
   "metadata": {},
   "outputs": [],
   "source": [
    "df['installs'] = np.log1p(df['installs'])"
   ]
  },
  {
   "cell_type": "code",
   "execution_count": 52,
   "id": "7d467f46-c5b6-467a-a825-4fd97c8578eb",
   "metadata": {},
   "outputs": [
    {
     "data": {
      "text/plain": [
       "-0.3037457807686859"
      ]
     },
     "execution_count": 52,
     "metadata": {},
     "output_type": "execute_result"
    }
   ],
   "source": [
    "df['installs'].skew()"
   ]
  },
  {
   "cell_type": "markdown",
   "id": "a89ee341-1a4b-4d51-856d-e49dfe02d3ea",
   "metadata": {
    "jp-MarkdownHeadingCollapsed": true
   },
   "source": [
    "## type column"
   ]
  },
  {
   "cell_type": "code",
   "execution_count": 53,
   "id": "c33a2a2b-289c-43fb-9c52-d5563a0e1262",
   "metadata": {},
   "outputs": [
    {
     "data": {
      "text/plain": [
       "count     10839\n",
       "unique        2\n",
       "top        Free\n",
       "freq      10039\n",
       "Name: type, dtype: object"
      ]
     },
     "execution_count": 53,
     "metadata": {},
     "output_type": "execute_result"
    }
   ],
   "source": [
    "df['type'].describe()"
   ]
  },
  {
   "cell_type": "code",
   "execution_count": 54,
   "id": "807f7d2d-bed3-4e90-bf6d-8b9a6fed23d3",
   "metadata": {},
   "outputs": [
    {
     "data": {
      "text/plain": [
       "type\n",
       "Free    10039\n",
       "Paid      800\n",
       "Name: count, dtype: int64"
      ]
     },
     "execution_count": 54,
     "metadata": {},
     "output_type": "execute_result"
    }
   ],
   "source": [
    "df['type'].value_counts()"
   ]
  },
  {
   "cell_type": "code",
   "execution_count": 55,
   "id": "836307cd-a215-411f-b8c2-5e544740778d",
   "metadata": {},
   "outputs": [],
   "source": [
    "df['is_paid'] = df['type'].apply(lambda x: 1 if x == 'Paid' else 0)"
   ]
  },
  {
   "cell_type": "code",
   "execution_count": 56,
   "id": "c280029d-4ee9-4133-9b7f-5ef68a70c9f7",
   "metadata": {},
   "outputs": [],
   "source": [
    "df = df.drop(columns=['type'])"
   ]
  },
  {
   "cell_type": "markdown",
   "id": "459893f0-4e0b-403d-b95d-c414c1dca6ee",
   "metadata": {
    "jp-MarkdownHeadingCollapsed": true
   },
   "source": [
    "## price column"
   ]
  },
  {
   "cell_type": "code",
   "execution_count": 57,
   "id": "abb68fdb-a71f-4b8b-8cc5-2e3929ddce89",
   "metadata": {},
   "outputs": [
    {
     "data": {
      "text/plain": [
       "count     10840\n",
       "unique       92\n",
       "top           0\n",
       "freq      10040\n",
       "Name: price, dtype: object"
      ]
     },
     "execution_count": 57,
     "metadata": {},
     "output_type": "execute_result"
    }
   ],
   "source": [
    "df['price'].describe()"
   ]
  },
  {
   "cell_type": "code",
   "execution_count": 58,
   "id": "47081d05-4acc-4a7c-b8d9-6078ef387c99",
   "metadata": {},
   "outputs": [
    {
     "data": {
      "text/plain": [
       "price\n",
       "0         10040\n",
       "$0.99       148\n",
       "$2.99       129\n",
       "$1.99        73\n",
       "$4.99        72\n",
       "          ...  \n",
       "$19.90        1\n",
       "$1.75         1\n",
       "$14.00        1\n",
       "$4.85         1\n",
       "$1.04         1\n",
       "Name: count, Length: 92, dtype: int64"
      ]
     },
     "execution_count": 58,
     "metadata": {},
     "output_type": "execute_result"
    }
   ],
   "source": [
    "df['price'].value_counts()"
   ]
  },
  {
   "cell_type": "code",
   "execution_count": 59,
   "id": "4b3380e8-fd9d-41c2-a7dc-c483476fd690",
   "metadata": {},
   "outputs": [],
   "source": [
    "# Remove $ and convert to float\n",
    "df['price'] = df['price'].str.replace('$', '', regex=False).astype('float64')"
   ]
  },
  {
   "cell_type": "code",
   "execution_count": 60,
   "id": "5978546b-d5d2-4957-a806-7dc48d693714",
   "metadata": {},
   "outputs": [
    {
     "data": {
      "text/plain": [
       "count    10840.000000\n",
       "mean         1.027368\n",
       "std         15.949703\n",
       "min          0.000000\n",
       "25%          0.000000\n",
       "50%          0.000000\n",
       "75%          0.000000\n",
       "max        400.000000\n",
       "Name: price, dtype: float64"
      ]
     },
     "execution_count": 60,
     "metadata": {},
     "output_type": "execute_result"
    }
   ],
   "source": [
    "df['price'].describe()"
   ]
  },
  {
   "cell_type": "code",
   "execution_count": 61,
   "id": "6a973e63-b9d1-472a-9290-dfcaeb399516",
   "metadata": {},
   "outputs": [
    {
     "data": {
      "text/plain": [
       "23.70739237970721"
      ]
     },
     "execution_count": 61,
     "metadata": {},
     "output_type": "execute_result"
    }
   ],
   "source": [
    "df['price'].skew()"
   ]
  },
  {
   "cell_type": "code",
   "execution_count": 62,
   "id": "bb53ac53-b07e-4ffc-ae02-2c19022613ef",
   "metadata": {},
   "outputs": [
    {
     "data": {
      "text/plain": [
       "Text(0.5, 1.0, 'Distribution of prices')"
      ]
     },
     "execution_count": 62,
     "metadata": {},
     "output_type": "execute_result"
    },
    {
     "data": {
      "image/png": "[encoded data removed]",
      "text/plain": [
       "<Figure size 640x480 with 1 Axes>"
      ]
     },
     "metadata": {},
     "output_type": "display_data"
    }
   ],
   "source": [
    "ax = sns.histplot(data=df['price'], bins=20, kde=True, color='#4682B4')\n",
    "ax.lines[0].set_color('#FF6F61')\n",
    "plt.title(\"Distribution of prices\")"
   ]
  },
  {
   "cell_type": "code",
   "execution_count": 63,
   "id": "ca374e9c-8e29-4e32-99ef-98019f42574f",
   "metadata": {},
   "outputs": [],
   "source": [
    "from scipy.stats import boxcox\n",
    "df[\"price_boxcox\"], best_lambda = boxcox(df[\"price\"] + 1)  # Automatically selects the optimal λ"
   ]
  },
  {
   "cell_type": "code",
   "execution_count": 64,
   "id": "0149bf2b-5735-43f2-9f9e-31cdce5396d8",
   "metadata": {},
   "outputs": [
    {
     "data": {
      "text/plain": [
       "Text(0.5, 1.0, 'Distribution of prices (boxcox Transformed)')"
      ]
     },
     "execution_count": 64,
     "metadata": {},
     "output_type": "execute_result"
    },
    {
     "data": {
      "image/png": "[encoded data removed]",
      "text/plain": [
       "<Figure size 640x480 with 1 Axes>"
      ]
     },
     "metadata": {},
     "output_type": "display_data"
    }
   ],
   "source": [
    "ax = sns.histplot(data=df['price_boxcox'], bins=20, kde=True, color='#4682B4')\n",
    "ax.lines[0].set_color('#FF6F61')\n",
    "plt.title(\"Distribution of prices (boxcox Transformed)\")"
   ]
  },
  {
   "cell_type": "code",
   "execution_count": 65,
   "id": "be8144c2-b9ca-49f9-825d-086bdb6c3868",
   "metadata": {},
   "outputs": [
    {
     "data": {
      "text/plain": [
       "3.2607786914461636"
      ]
     },
     "execution_count": 65,
     "metadata": {},
     "output_type": "execute_result"
    }
   ],
   "source": [
    "df['price_boxcox'].skew()"
   ]
  },
  {
   "cell_type": "code",
   "execution_count": 66,
   "id": "1d9ec224-98e4-4eaf-821b-0ca24fd8ce48",
   "metadata": {},
   "outputs": [],
   "source": [
    "# The skewness in the 'price' column is inherent to the data's nature (many zeros and a few large values).\n",
    "# We're using the Box-Cox transformation to significantly reduce this skewness, but some remains due to the data's natural distribution.\n",
    "# For better results, it's more effective to use models that are less sensitive to this residual skewness,\n",
    "# such as tree-based models like Random Forest or XGBoost."
   ]
  },
  {
   "cell_type": "code",
   "execution_count": 67,
   "id": "86c7bc65-6703-4210-90e6-a81eb1b02e2e",
   "metadata": {},
   "outputs": [],
   "source": [
    "df = df.drop(columns=['price'])"
   ]
  },
  {
   "cell_type": "markdown",
   "id": "92a6470b-f62f-4d5d-9d30-33f3966a3ffe",
   "metadata": {
    "jp-MarkdownHeadingCollapsed": true
   },
   "source": [
    "## content_rating column"
   ]
  },
  {
   "cell_type": "code",
   "execution_count": 68,
   "id": "3f3720b0-23fb-469f-9fab-4df3750cb46c",
   "metadata": {},
   "outputs": [
    {
     "data": {
      "text/plain": [
       "dtype('O')"
      ]
     },
     "execution_count": 68,
     "metadata": {},
     "output_type": "execute_result"
    }
   ],
   "source": [
    "df['content_rating'].dtype"
   ]
  },
  {
   "cell_type": "code",
   "execution_count": 69,
   "id": "74884645-9668-4004-9b7b-34857092acd6",
   "metadata": {},
   "outputs": [
    {
     "data": {
      "text/plain": [
       "content_rating\n",
       "Everyone           8714\n",
       "Teen               1208\n",
       "Mature 17+          499\n",
       "Everyone 10+        414\n",
       "Adults only 18+       3\n",
       "Unrated               2\n",
       "Name: count, dtype: int64"
      ]
     },
     "execution_count": 69,
     "metadata": {},
     "output_type": "execute_result"
    }
   ],
   "source": [
    "df['content_rating'].value_counts()"
   ]
  },
  {
   "cell_type": "code",
   "execution_count": 70,
   "id": "74baa615-bea5-4e38-9b0f-5ecc3cc40680",
   "metadata": {},
   "outputs": [],
   "source": [
    "df['content_rating'] = df['content_rating'].str.lower().str.replace(' ', '_')"
   ]
  },
  {
   "cell_type": "code",
   "execution_count": 71,
   "id": "25bc9f0b-c246-47f9-9bd0-a3cf9710c2fb",
   "metadata": {},
   "outputs": [],
   "source": [
    "# Remove rare content_rating categories: 'Adults only 18+' and 'Unrated'\n",
    "# Only 5 rows in total, so they don't affect the model much\n",
    "df = df[~df['content_rating'].isin(['adults_only_18+', 'unrated'])]"
   ]
  },
  {
   "cell_type": "code",
   "execution_count": 72,
   "id": "ed63e8da-ff02-4ac1-89bf-35cc8cf00185",
   "metadata": {},
   "outputs": [
    {
     "data": {
      "text/plain": [
       "content_rating\n",
       "everyone        8714\n",
       "teen            1208\n",
       "mature_17+       499\n",
       "everyone_10+     414\n",
       "Name: count, dtype: int64"
      ]
     },
     "execution_count": 72,
     "metadata": {},
     "output_type": "execute_result"
    }
   ],
   "source": [
    "df['content_rating'].value_counts()"
   ]
  },
  {
   "cell_type": "code",
   "execution_count": 73,
   "id": "31cdf7c7-ddb3-4296-91c7-b07427171bcf",
   "metadata": {},
   "outputs": [],
   "source": [
    "df['content_rating'] = df['content_rating'].replace({\n",
    "    'mature_17+': 'mature',\n",
    "    'everyone_10+': 'everyone'\n",
    "})"
   ]
  },
  {
   "cell_type": "code",
   "execution_count": 74,
   "id": "a17a6acd-39c6-4853-87ff-a36695fea348",
   "metadata": {},
   "outputs": [
    {
     "data": {
      "text/plain": [
       "content_rating\n",
       "everyone    9128\n",
       "teen        1208\n",
       "mature       499\n",
       "Name: count, dtype: int64"
      ]
     },
     "execution_count": 74,
     "metadata": {},
     "output_type": "execute_result"
    }
   ],
   "source": [
    "df['content_rating'].value_counts()"
   ]
  },
  {
   "cell_type": "code",
   "execution_count": 75,
   "id": "2e551920-1543-4ded-a786-272c646ef9e9",
   "metadata": {},
   "outputs": [],
   "source": [
    "# Note: Ordinal encoding is not used; One-Hot is applied instead\n",
    "# because the distances between categories are not equal:\n",
    "# the distance from 'everyone' to 'teen' is not the same as from 'teen' to 'mature'.\n",
    "\n",
    "ratings_onehot = pd.get_dummies(df['content_rating'], prefix='rating')\n",
    "df = pd.concat([df, ratings_onehot], axis=1).drop(columns=['content_rating'])"
   ]
  },
  {
   "cell_type": "code",
   "execution_count": 76,
   "id": "bf6da4df-2139-46f3-a8af-b55359aad7ce",
   "metadata": {},
   "outputs": [
    {
     "data": {
      "text/html": [
       "<div>\n",
       "<style scoped>\n",
       "    .dataframe tbody tr th:only-of-type {\n",
       "        vertical-align: middle;\n",
       "    }\n",
       "\n",
       "    .dataframe tbody tr th {\n",
       "        vertical-align: top;\n",
       "    }\n",
       "\n",
       "    .dataframe thead th {\n",
       "        text-align: right;\n",
       "    }\n",
       "</style>\n",
       "<table border=\"1\" class=\"dataframe\">\n",
       "  <thead>\n",
       "    <tr style=\"text-align: right;\">\n",
       "      <th></th>\n",
       "      <th>app</th>\n",
       "      <th>category</th>\n",
       "      <th>size</th>\n",
       "      <th>installs</th>\n",
       "      <th>genres</th>\n",
       "      <th>last_updated</th>\n",
       "      <th>current_ver</th>\n",
       "      <th>android_ver</th>\n",
       "      <th>rating_transformed</th>\n",
       "      <th>reviews_log</th>\n",
       "      <th>is_paid</th>\n",
       "      <th>price_boxcox</th>\n",
       "      <th>rating_everyone</th>\n",
       "      <th>rating_mature</th>\n",
       "      <th>rating_teen</th>\n",
       "    </tr>\n",
       "  </thead>\n",
       "  <tbody>\n",
       "    <tr>\n",
       "      <th>3173</th>\n",
       "      <td>Priceline Hotel Deals, Rental Cars &amp; Flights</td>\n",
       "      <td>TRAVEL_AND_LOCAL</td>\n",
       "      <td>2.466212</td>\n",
       "      <td>15.424949</td>\n",
       "      <td>Travel &amp; Local</td>\n",
       "      <td>July 26, 2018</td>\n",
       "      <td>4.38.176</td>\n",
       "      <td>4.4 and up</td>\n",
       "      <td>0.331188</td>\n",
       "      <td>10.798166</td>\n",
       "      <td>0</td>\n",
       "      <td>0.0</td>\n",
       "      <td>True</td>\n",
       "      <td>False</td>\n",
       "      <td>False</td>\n",
       "    </tr>\n",
       "    <tr>\n",
       "      <th>3073</th>\n",
       "      <td>NCAA March Madness Live</td>\n",
       "      <td>SPORTS</td>\n",
       "      <td>2.668402</td>\n",
       "      <td>15.424949</td>\n",
       "      <td>Sports</td>\n",
       "      <td>March 30, 2018</td>\n",
       "      <td>7.1.0</td>\n",
       "      <td>5.0 and up</td>\n",
       "      <td>-0.470636</td>\n",
       "      <td>10.437756</td>\n",
       "      <td>0</td>\n",
       "      <td>0.0</td>\n",
       "      <td>True</td>\n",
       "      <td>False</td>\n",
       "      <td>False</td>\n",
       "    </tr>\n",
       "    <tr>\n",
       "      <th>10483</th>\n",
       "      <td>New Wallpapers Toyota FJ Cruiser Theme</td>\n",
       "      <td>PERSONALIZATION</td>\n",
       "      <td>2.519842</td>\n",
       "      <td>4.615121</td>\n",
       "      <td>Personalization</td>\n",
       "      <td>February 23, 2018</td>\n",
       "      <td>1.0</td>\n",
       "      <td>4.1 and up</td>\n",
       "      <td>0.041452</td>\n",
       "      <td>0.693147</td>\n",
       "      <td>0</td>\n",
       "      <td>0.0</td>\n",
       "      <td>False</td>\n",
       "      <td>False</td>\n",
       "      <td>True</td>\n",
       "    </tr>\n",
       "    <tr>\n",
       "      <th>3339</th>\n",
       "      <td>WiFi Automatic</td>\n",
       "      <td>TOOLS</td>\n",
       "      <td>2.351335</td>\n",
       "      <td>13.815512</td>\n",
       "      <td>Tools</td>\n",
       "      <td>March 18, 2018</td>\n",
       "      <td>Varies with device</td>\n",
       "      <td>Varies with device</td>\n",
       "      <td>-0.470636</td>\n",
       "      <td>9.268232</td>\n",
       "      <td>0</td>\n",
       "      <td>0.0</td>\n",
       "      <td>True</td>\n",
       "      <td>False</td>\n",
       "      <td>False</td>\n",
       "    </tr>\n",
       "    <tr>\n",
       "      <th>8895</th>\n",
       "      <td>du app</td>\n",
       "      <td>LIFESTYLE</td>\n",
       "      <td>2.924018</td>\n",
       "      <td>13.815512</td>\n",
       "      <td>Lifestyle</td>\n",
       "      <td>July 24, 2018</td>\n",
       "      <td>3.98</td>\n",
       "      <td>4.2 and up</td>\n",
       "      <td>-1.562730</td>\n",
       "      <td>8.933137</td>\n",
       "      <td>0</td>\n",
       "      <td>0.0</td>\n",
       "      <td>True</td>\n",
       "      <td>False</td>\n",
       "      <td>False</td>\n",
       "    </tr>\n",
       "  </tbody>\n",
       "</table>\n",
       "</div>"
      ],
      "text/plain": [
       "                                                app          category  \\\n",
       "3173   Priceline Hotel Deals, Rental Cars & Flights  TRAVEL_AND_LOCAL   \n",
       "3073                        NCAA March Madness Live            SPORTS   \n",
       "10483        New Wallpapers Toyota FJ Cruiser Theme   PERSONALIZATION   \n",
       "3339                                 WiFi Automatic             TOOLS   \n",
       "8895                                         du app         LIFESTYLE   \n",
       "\n",
       "           size   installs           genres       last_updated  \\\n",
       "3173   2.466212  15.424949   Travel & Local      July 26, 2018   \n",
       "3073   2.668402  15.424949           Sports     March 30, 2018   \n",
       "10483  2.519842   4.615121  Personalization  February 23, 2018   \n",
       "3339   2.351335  13.815512            Tools     March 18, 2018   \n",
       "8895   2.924018  13.815512        Lifestyle      July 24, 2018   \n",
       "\n",
       "              current_ver         android_ver  rating_transformed  \\\n",
       "3173             4.38.176          4.4 and up            0.331188   \n",
       "3073                7.1.0          5.0 and up           -0.470636   \n",
       "10483                 1.0          4.1 and up            0.041452   \n",
       "3339   Varies with device  Varies with device           -0.470636   \n",
       "8895                 3.98          4.2 and up           -1.562730   \n",
       "\n",
       "       reviews_log  is_paid  price_boxcox  rating_everyone  rating_mature  \\\n",
       "3173     10.798166        0           0.0             True          False   \n",
       "3073     10.437756        0           0.0             True          False   \n",
       "10483     0.693147        0           0.0            False          False   \n",
       "3339      9.268232        0           0.0             True          False   \n",
       "8895      8.933137        0           0.0             True          False   \n",
       "\n",
       "       rating_teen  \n",
       "3173         False  \n",
       "3073         False  \n",
       "10483         True  \n",
       "3339         False  \n",
       "8895         False  "
      ]
     },
     "execution_count": 76,
     "metadata": {},
     "output_type": "execute_result"
    }
   ],
   "source": [
    "df.sample(5)"
   ]
  },
  {
   "cell_type": "markdown",
   "id": "42f0a349-2fa6-4510-94e0-87408d1dc954",
   "metadata": {
    "jp-MarkdownHeadingCollapsed": true
   },
   "source": [
    "## last_update column"
   ]
  },
  {
   "cell_type": "code",
   "execution_count": 77,
   "id": "f520aad8-a74a-4ac6-802a-70a4700410e1",
   "metadata": {},
   "outputs": [
    {
     "data": {
      "text/plain": [
       "count              10835\n",
       "unique              1376\n",
       "top       August 3, 2018\n",
       "freq                 325\n",
       "Name: last_updated, dtype: object"
      ]
     },
     "execution_count": 77,
     "metadata": {},
     "output_type": "execute_result"
    }
   ],
   "source": [
    "df['last_updated'].describe()"
   ]
  },
  {
   "cell_type": "code",
   "execution_count": 78,
   "id": "e9271d57-70cb-4b61-9669-e992f1f6f399",
   "metadata": {},
   "outputs": [
    {
     "data": {
      "text/plain": [
       "last_updated\n",
       "<class 'str'>    10835\n",
       "Name: count, dtype: int64"
      ]
     },
     "execution_count": 78,
     "metadata": {},
     "output_type": "execute_result"
    }
   ],
   "source": [
    "# Count how many values of each data type exist in the 'last_updated' column\n",
    "df[\"last_updated\"].apply(type).value_counts()"
   ]
  },
  {
   "cell_type": "code",
   "execution_count": 79,
   "id": "a221724d-e186-4a6a-98c8-3e12a71f354d",
   "metadata": {},
   "outputs": [
    {
     "name": "stdout",
     "output_type": "stream",
     "text": [
      "object\n"
     ]
    }
   ],
   "source": [
    "# Use dtype to check column type, describe() to get data statistics\n",
    "print(df[\"last_updated\"].dtype)"
   ]
  },
  {
   "cell_type": "code",
   "execution_count": 80,
   "id": "4f6fde0d-6362-4a24-a277-5bbc2113af9f",
   "metadata": {},
   "outputs": [],
   "source": [
    "df[\"last_updated\"] = pd.to_datetime(df[\"last_updated\"])"
   ]
  },
  {
   "cell_type": "code",
   "execution_count": 81,
   "id": "14488f07-9a68-47b4-ac10-ea107db02a7e",
   "metadata": {},
   "outputs": [
    {
     "name": "stdout",
     "output_type": "stream",
     "text": [
      "datetime64[ns]\n"
     ]
    }
   ],
   "source": [
    "print(df[\"last_updated\"].dtype)"
   ]
  },
  {
   "cell_type": "markdown",
   "id": "c20d5158-4fe0-4471-aea0-d9e6589e477f",
   "metadata": {},
   "source": [
    "## current_version culumn"
   ]
  },
  {
   "cell_type": "code",
   "execution_count": 82,
   "id": "3e669ace-02f2-4aa6-aa7f-1b2e7fdd72d0",
   "metadata": {},
   "outputs": [
    {
     "data": {
      "text/plain": [
       "count                  10827\n",
       "unique                  2829\n",
       "top       Varies with device\n",
       "freq                    1458\n",
       "Name: current_ver, dtype: object"
      ]
     },
     "execution_count": 82,
     "metadata": {},
     "output_type": "execute_result"
    }
   ],
   "source": [
    "df['current_ver'].describe()"
   ]
  },
  {
   "cell_type": "code",
   "execution_count": 83,
   "id": "dd6142ae-bd85-4ffa-a1f3-4eb8a943fef8",
   "metadata": {},
   "outputs": [
    {
     "data": {
      "text/plain": [
       "<bound method Series.unique of 0                     1.0.0\n",
       "1                     2.0.0\n",
       "2                     1.2.4\n",
       "3        Varies with device\n",
       "4                       1.1\n",
       "                ...        \n",
       "10836                  1.48\n",
       "10837                   1.0\n",
       "10838                   1.0\n",
       "10839    Varies with device\n",
       "10840    Varies with device\n",
       "Name: current_ver, Length: 10835, dtype: object>"
      ]
     },
     "execution_count": 83,
     "metadata": {},
     "output_type": "execute_result"
    }
   ],
   "source": [
    "df['current_ver'].unique"
   ]
  },
  {
   "cell_type": "code",
   "execution_count": 84,
   "id": "c96c2b48-8610-41c5-b29d-006383e8e513",
   "metadata": {},
   "outputs": [
    {
     "data": {
      "text/plain": [
       "dtype('O')"
      ]
     },
     "execution_count": 84,
     "metadata": {},
     "output_type": "execute_result"
    }
   ],
   "source": [
    "df['current_ver'].dtype"
   ]
  },
  {
   "cell_type": "code",
   "execution_count": 85,
   "id": "33754e1d-1f1b-4993-ab46-3a991478551b",
   "metadata": {},
   "outputs": [],
   "source": [
    "# The 'current_ver' column isn't dropped because version data is critical for predicting ratings.\n",
    "# It's being transformed into new numeric features (major, minor, and patch versions) so our model can learn how different types of updates impact user satisfaction. \n",
    "# We're also creating a separate feature, 'is_varies', to handle the 'Varies with device' rows."
   ]
  },
  {
   "cell_type": "code",
   "execution_count": 86,
   "id": "2f7cacb7-6928-42f7-89de-9ec1a59a66f8",
   "metadata": {},
   "outputs": [
    {
     "name": "stdout",
     "output_type": "stream",
     "text": [
      "          current_ver  is_varies\n",
      "0               1.0.0          0\n",
      "1               2.0.0          0\n",
      "2               1.2.4          0\n",
      "3  Varies with device          1\n",
      "4                 1.1          0\n"
     ]
    }
   ],
   "source": [
    "# Create a binary feature to indicate if the version varies with the device.\n",
    "df['is_varies'] = np.where(df['current_ver'] == 'Varies with device', 1, 0)\n",
    "print(df[['current_ver', 'is_varies']].head())"
   ]
  },
  {
   "cell_type": "code",
   "execution_count": 87,
   "id": "c7eb75eb-76da-4641-b16f-c8650290a353",
   "metadata": {},
   "outputs": [],
   "source": [
    "# Replace the 'Varies with device' values with an empty string\n",
    "df['current_ver'] = df['current_ver'].replace('Varies with device', np.nan)\n",
    "df['current_ver'] = df['current_ver'].fillna('')"
   ]
  },
  {
   "cell_type": "code",
   "execution_count": 88,
   "id": "995946de-bdea-484f-a338-d24796903f59",
   "metadata": {},
   "outputs": [],
   "source": [
    "# Split the 'current_ver' string and keep only the first three components\n",
    "version_parts = df['current_ver'].str.split('.', expand=True).iloc[:, :3]\n",
    "\n",
    "# Rename the columns for clarity\n",
    "version_parts.columns = ['major_ver', 'minor_ver', 'patch_ver']\n",
    "\n",
    "# Convert the version columns to numeric, coercing errors to NaN\n",
    "for col in version_parts.columns:\n",
    "    version_parts[col] = pd.to_numeric(version_parts[col], errors='coerce').fillna(0).astype(int)\n",
    "\n",
    "# Concatenate the new version columns with the main dataframe\n",
    "df = pd.concat([df, version_parts], axis=1)\n",
    "\n",
    "# Drop the original 'current_ver' column\n",
    "df = df.drop(columns=['current_ver'])"
   ]
  },
  {
   "cell_type": "code",
   "execution_count": 90,
   "id": "698a62e5-3918-46e3-aca2-e830d8fd5b07",
   "metadata": {},
   "outputs": [
    {
     "data": {
      "text/html": [
       "<div>\n",
       "<style scoped>\n",
       "    .dataframe tbody tr th:only-of-type {\n",
       "        vertical-align: middle;\n",
       "    }\n",
       "\n",
       "    .dataframe tbody tr th {\n",
       "        vertical-align: top;\n",
       "    }\n",
       "\n",
       "    .dataframe thead th {\n",
       "        text-align: right;\n",
       "    }\n",
       "</style>\n",
       "<table border=\"1\" class=\"dataframe\">\n",
       "  <thead>\n",
       "    <tr style=\"text-align: right;\">\n",
       "      <th></th>\n",
       "      <th>app</th>\n",
       "      <th>category</th>\n",
       "      <th>size</th>\n",
       "      <th>installs</th>\n",
       "      <th>genres</th>\n",
       "      <th>last_updated</th>\n",
       "      <th>android_ver</th>\n",
       "      <th>rating_transformed</th>\n",
       "      <th>reviews_log</th>\n",
       "      <th>is_paid</th>\n",
       "      <th>price_boxcox</th>\n",
       "      <th>rating_everyone</th>\n",
       "      <th>rating_mature</th>\n",
       "      <th>rating_teen</th>\n",
       "      <th>is_varies</th>\n",
       "      <th>major_ver</th>\n",
       "      <th>minor_ver</th>\n",
       "      <th>patch_ver</th>\n",
       "    </tr>\n",
       "  </thead>\n",
       "  <tbody>\n",
       "    <tr>\n",
       "      <th>0</th>\n",
       "      <td>Photo Editor &amp; Candy Camera &amp; Grid &amp; ScrapBook</td>\n",
       "      <td>ART_AND_DESIGN</td>\n",
       "      <td>2.668402</td>\n",
       "      <td>9.210440</td>\n",
       "      <td>Art &amp; Design</td>\n",
       "      <td>2018-01-07</td>\n",
       "      <td>4.0.3 and up</td>\n",
       "      <td>-0.470636</td>\n",
       "      <td>5.075174</td>\n",
       "      <td>0</td>\n",
       "      <td>0.0</td>\n",
       "      <td>True</td>\n",
       "      <td>False</td>\n",
       "      <td>False</td>\n",
       "      <td>0</td>\n",
       "      <td>1</td>\n",
       "      <td>0</td>\n",
       "      <td>0</td>\n",
       "    </tr>\n",
       "    <tr>\n",
       "      <th>1</th>\n",
       "      <td>Coloring book moana</td>\n",
       "      <td>ART_AND_DESIGN</td>\n",
       "      <td>2.410142</td>\n",
       "      <td>13.122365</td>\n",
       "      <td>Art &amp; Design;Pretend Play</td>\n",
       "      <td>2018-01-15</td>\n",
       "      <td>4.0.3 and up</td>\n",
       "      <td>-0.902071</td>\n",
       "      <td>6.875232</td>\n",
       "      <td>0</td>\n",
       "      <td>0.0</td>\n",
       "      <td>True</td>\n",
       "      <td>False</td>\n",
       "      <td>False</td>\n",
       "      <td>0</td>\n",
       "      <td>2</td>\n",
       "      <td>0</td>\n",
       "      <td>0</td>\n",
       "    </tr>\n",
       "    <tr>\n",
       "      <th>2</th>\n",
       "      <td>U Launcher Lite – FREE Live Cool Themes, Hide ...</td>\n",
       "      <td>ART_AND_DESIGN</td>\n",
       "      <td>2.056710</td>\n",
       "      <td>15.424949</td>\n",
       "      <td>Art &amp; Design</td>\n",
       "      <td>2018-08-01</td>\n",
       "      <td>4.0.3 and up</td>\n",
       "      <td>1.353273</td>\n",
       "      <td>11.379520</td>\n",
       "      <td>0</td>\n",
       "      <td>0.0</td>\n",
       "      <td>True</td>\n",
       "      <td>False</td>\n",
       "      <td>False</td>\n",
       "      <td>0</td>\n",
       "      <td>1</td>\n",
       "      <td>2</td>\n",
       "      <td>4</td>\n",
       "    </tr>\n",
       "    <tr>\n",
       "      <th>3</th>\n",
       "      <td>Sketch - Draw &amp; Paint</td>\n",
       "      <td>ART_AND_DESIGN</td>\n",
       "      <td>2.924018</td>\n",
       "      <td>17.727534</td>\n",
       "      <td>Art &amp; Design</td>\n",
       "      <td>2018-06-08</td>\n",
       "      <td>4.2 and up</td>\n",
       "      <td>0.645353</td>\n",
       "      <td>12.281389</td>\n",
       "      <td>0</td>\n",
       "      <td>0.0</td>\n",
       "      <td>False</td>\n",
       "      <td>False</td>\n",
       "      <td>True</td>\n",
       "      <td>1</td>\n",
       "      <td>0</td>\n",
       "      <td>0</td>\n",
       "      <td>0</td>\n",
       "    </tr>\n",
       "    <tr>\n",
       "      <th>4</th>\n",
       "      <td>Pixel Draw - Number Art Coloring Book</td>\n",
       "      <td>ART_AND_DESIGN</td>\n",
       "      <td>1.409460</td>\n",
       "      <td>11.512935</td>\n",
       "      <td>Art &amp; Design;Creativity</td>\n",
       "      <td>2018-06-20</td>\n",
       "      <td>4.4 and up</td>\n",
       "      <td>0.041452</td>\n",
       "      <td>6.875232</td>\n",
       "      <td>0</td>\n",
       "      <td>0.0</td>\n",
       "      <td>True</td>\n",
       "      <td>False</td>\n",
       "      <td>False</td>\n",
       "      <td>0</td>\n",
       "      <td>1</td>\n",
       "      <td>1</td>\n",
       "      <td>0</td>\n",
       "    </tr>\n",
       "    <tr>\n",
       "      <th>...</th>\n",
       "      <td>...</td>\n",
       "      <td>...</td>\n",
       "      <td>...</td>\n",
       "      <td>...</td>\n",
       "      <td>...</td>\n",
       "      <td>...</td>\n",
       "      <td>...</td>\n",
       "      <td>...</td>\n",
       "      <td>...</td>\n",
       "      <td>...</td>\n",
       "      <td>...</td>\n",
       "      <td>...</td>\n",
       "      <td>...</td>\n",
       "      <td>...</td>\n",
       "      <td>...</td>\n",
       "      <td>...</td>\n",
       "      <td>...</td>\n",
       "      <td>...</td>\n",
       "    </tr>\n",
       "    <tr>\n",
       "      <th>95</th>\n",
       "      <td>All of the parking lot - National Park applica...</td>\n",
       "      <td>AUTO_AND_VEHICLES</td>\n",
       "      <td>2.410142</td>\n",
       "      <td>13.122365</td>\n",
       "      <td>Auto &amp; Vehicles</td>\n",
       "      <td>2018-06-02</td>\n",
       "      <td>4.0 and up</td>\n",
       "      <td>-0.695777</td>\n",
       "      <td>7.470224</td>\n",
       "      <td>0</td>\n",
       "      <td>0.0</td>\n",
       "      <td>True</td>\n",
       "      <td>False</td>\n",
       "      <td>False</td>\n",
       "      <td>0</td>\n",
       "      <td>2</td>\n",
       "      <td>3</td>\n",
       "      <td>4</td>\n",
       "    </tr>\n",
       "    <tr>\n",
       "      <th>96</th>\n",
       "      <td>Inquiry Fines and Debits of Vehicles</td>\n",
       "      <td>AUTO_AND_VEHICLES</td>\n",
       "      <td>1.300591</td>\n",
       "      <td>13.122365</td>\n",
       "      <td>Auto &amp; Vehicles</td>\n",
       "      <td>2018-03-20</td>\n",
       "      <td>4.0.3 and up</td>\n",
       "      <td>0.331188</td>\n",
       "      <td>7.893945</td>\n",
       "      <td>0</td>\n",
       "      <td>0.0</td>\n",
       "      <td>True</td>\n",
       "      <td>False</td>\n",
       "      <td>False</td>\n",
       "      <td>0</td>\n",
       "      <td>1</td>\n",
       "      <td>3</td>\n",
       "      <td>0</td>\n",
       "    </tr>\n",
       "    <tr>\n",
       "      <th>97</th>\n",
       "      <td>Gas Station</td>\n",
       "      <td>AUTO_AND_VEHICLES</td>\n",
       "      <td>1.650964</td>\n",
       "      <td>11.512935</td>\n",
       "      <td>Auto &amp; Vehicles</td>\n",
       "      <td>2018-04-21</td>\n",
       "      <td>4.0 and up</td>\n",
       "      <td>-0.695777</td>\n",
       "      <td>7.161622</td>\n",
       "      <td>0</td>\n",
       "      <td>0.0</td>\n",
       "      <td>True</td>\n",
       "      <td>False</td>\n",
       "      <td>False</td>\n",
       "      <td>0</td>\n",
       "      <td>2</td>\n",
       "      <td>17</td>\n",
       "      <td>0</td>\n",
       "    </tr>\n",
       "    <tr>\n",
       "      <th>98</th>\n",
       "      <td>Hush - Beauty for Everyone</td>\n",
       "      <td>BEAUTY</td>\n",
       "      <td>2.571282</td>\n",
       "      <td>13.122365</td>\n",
       "      <td>Beauty</td>\n",
       "      <td>2018-08-02</td>\n",
       "      <td>5.0 and up</td>\n",
       "      <td>1.353273</td>\n",
       "      <td>9.846970</td>\n",
       "      <td>0</td>\n",
       "      <td>0.0</td>\n",
       "      <td>True</td>\n",
       "      <td>False</td>\n",
       "      <td>False</td>\n",
       "      <td>0</td>\n",
       "      <td>6</td>\n",
       "      <td>10</td>\n",
       "      <td>1</td>\n",
       "    </tr>\n",
       "    <tr>\n",
       "      <th>99</th>\n",
       "      <td>ipsy: Makeup, Beauty, and Tips</td>\n",
       "      <td>BEAUTY</td>\n",
       "      <td>2.410142</td>\n",
       "      <td>13.815512</td>\n",
       "      <td>Beauty</td>\n",
       "      <td>2017-11-09</td>\n",
       "      <td>4.1 and up</td>\n",
       "      <td>2.178516</td>\n",
       "      <td>10.815590</td>\n",
       "      <td>0</td>\n",
       "      <td>0.0</td>\n",
       "      <td>True</td>\n",
       "      <td>False</td>\n",
       "      <td>False</td>\n",
       "      <td>0</td>\n",
       "      <td>2</td>\n",
       "      <td>3</td>\n",
       "      <td>0</td>\n",
       "    </tr>\n",
       "  </tbody>\n",
       "</table>\n",
       "<p>100 rows × 18 columns</p>\n",
       "</div>"
      ],
      "text/plain": [
       "                                                  app           category  \\\n",
       "0      Photo Editor & Candy Camera & Grid & ScrapBook     ART_AND_DESIGN   \n",
       "1                                 Coloring book moana     ART_AND_DESIGN   \n",
       "2   U Launcher Lite – FREE Live Cool Themes, Hide ...     ART_AND_DESIGN   \n",
       "3                               Sketch - Draw & Paint     ART_AND_DESIGN   \n",
       "4               Pixel Draw - Number Art Coloring Book     ART_AND_DESIGN   \n",
       "..                                                ...                ...   \n",
       "95  All of the parking lot - National Park applica...  AUTO_AND_VEHICLES   \n",
       "96               Inquiry Fines and Debits of Vehicles  AUTO_AND_VEHICLES   \n",
       "97                                        Gas Station  AUTO_AND_VEHICLES   \n",
       "98                         Hush - Beauty for Everyone             BEAUTY   \n",
       "99                     ipsy: Makeup, Beauty, and Tips             BEAUTY   \n",
       "\n",
       "        size   installs                     genres last_updated   android_ver  \\\n",
       "0   2.668402   9.210440               Art & Design   2018-01-07  4.0.3 and up   \n",
       "1   2.410142  13.122365  Art & Design;Pretend Play   2018-01-15  4.0.3 and up   \n",
       "2   2.056710  15.424949               Art & Design   2018-08-01  4.0.3 and up   \n",
       "3   2.924018  17.727534               Art & Design   2018-06-08    4.2 and up   \n",
       "4   1.409460  11.512935    Art & Design;Creativity   2018-06-20    4.4 and up   \n",
       "..       ...        ...                        ...          ...           ...   \n",
       "95  2.410142  13.122365            Auto & Vehicles   2018-06-02    4.0 and up   \n",
       "96  1.300591  13.122365            Auto & Vehicles   2018-03-20  4.0.3 and up   \n",
       "97  1.650964  11.512935            Auto & Vehicles   2018-04-21    4.0 and up   \n",
       "98  2.571282  13.122365                     Beauty   2018-08-02    5.0 and up   \n",
       "99  2.410142  13.815512                     Beauty   2017-11-09    4.1 and up   \n",
       "\n",
       "    rating_transformed  reviews_log  is_paid  price_boxcox  rating_everyone  \\\n",
       "0            -0.470636     5.075174        0           0.0             True   \n",
       "1            -0.902071     6.875232        0           0.0             True   \n",
       "2             1.353273    11.379520        0           0.0             True   \n",
       "3             0.645353    12.281389        0           0.0            False   \n",
       "4             0.041452     6.875232        0           0.0             True   \n",
       "..                 ...          ...      ...           ...              ...   \n",
       "95           -0.695777     7.470224        0           0.0             True   \n",
       "96            0.331188     7.893945        0           0.0             True   \n",
       "97           -0.695777     7.161622        0           0.0             True   \n",
       "98            1.353273     9.846970        0           0.0             True   \n",
       "99            2.178516    10.815590        0           0.0             True   \n",
       "\n",
       "    rating_mature  rating_teen  is_varies  major_ver  minor_ver  patch_ver  \n",
       "0           False        False          0          1          0          0  \n",
       "1           False        False          0          2          0          0  \n",
       "2           False        False          0          1          2          4  \n",
       "3           False         True          1          0          0          0  \n",
       "4           False        False          0          1          1          0  \n",
       "..            ...          ...        ...        ...        ...        ...  \n",
       "95          False        False          0          2          3          4  \n",
       "96          False        False          0          1          3          0  \n",
       "97          False        False          0          2         17          0  \n",
       "98          False        False          0          6         10          1  \n",
       "99          False        False          0          2          3          0  \n",
       "\n",
       "[100 rows x 18 columns]"
      ]
     },
     "execution_count": 90,
     "metadata": {},
     "output_type": "execute_result"
    }
   ],
   "source": [
    "df.head(100)"
   ]
  },
  {
   "cell_type": "code",
   "execution_count": null,
   "id": "8454e6ea-5883-435d-a0b5-ec693bdfa4fe",
   "metadata": {},
   "outputs": [],
   "source": []
  }
 ],
 "metadata": {
  "kernelspec": {
   "display_name": "Python [conda env:base] *",
   "language": "python",
   "name": "conda-base-py"
  },
  "language_info": {
   "codemirror_mode": {
    "name": "ipython",
    "version": 3
   },
   "file_extension": ".py",
   "mimetype": "text/x-python",
   "name": "python",
   "nbconvert_exporter": "python",
   "pygments_lexer": "ipython3",
   "version": "3.12.7"
  }
 },
 "nbformat": 4,
 "nbformat_minor": 5
}
